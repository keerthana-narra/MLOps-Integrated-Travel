{
  "cells": [
    {
      "cell_type": "markdown",
      "metadata": {
        "colab_type": "text",
        "id": "view-in-github"
      },
      "source": [
        "<a href=\"https://colab.research.google.com/github/keerthana-narra/MLOps-Integrated-Travel/blob/main/Colab-files/Flight_Ticket_Price_Prediction.ipynb\" target=\"_parent\"><img src=\"https://colab.research.google.com/assets/colab-badge.svg\" alt=\"Open In Colab\"/></a>"
      ]
    },
    {
      "cell_type": "markdown",
      "metadata": {
        "id": "ILM16xV1PD8m"
      },
      "source": [
        "# **Flight Ticket Price Prediction**\n",
        "\n"
      ]
    },
    {
      "cell_type": "markdown",
      "metadata": {
        "id": "bqVZBxrvPD8n"
      },
      "source": [
        "##### **Project Type**    - Machine Learning\n",
        "##### **Contribution**    -\n"
      ]
    },
    {
      "cell_type": "markdown",
      "metadata": {
        "id": "OQBIQOjeO5eC"
      },
      "source": [
        "Github link :"
      ]
    },
    {
      "cell_type": "markdown",
      "metadata": {
        "id": "o5Fh4-5QjziR"
      },
      "source": [
        "Project Documentation : [Documentation link]"
      ]
    },
    {
      "cell_type": "markdown",
      "metadata": {
        "id": "EbzKaGcJO0b9"
      },
      "source": [
        "Presentation : [Video link]"
      ]
    },
    {
      "cell_type": "code",
      "execution_count": null,
      "metadata": {
        "id": "4gxB8cIVUWvJ"
      },
      "outputs": [],
      "source": []
    },
    {
      "cell_type": "markdown",
      "metadata": {
        "id": "yQaldy8SH6Dl"
      },
      "source": [
        "# **Problem Statement and Objective**\n"
      ]
    },
    {
      "cell_type": "markdown",
      "metadata": {
        "id": "jivUA-ONOwse"
      },
      "source": [
        "**Problem Overview**\n",
        "\n"
      ]
    },
    {
      "cell_type": "markdown",
      "metadata": {
        "id": "bmr4zSC6BYa0"
      },
      "source": [
        "**Objective:**\n"
      ]
    },
    {
      "cell_type": "markdown",
      "metadata": {
        "id": "O_i_v8NEhb9l"
      },
      "source": [
        "# ***Let's Begin !***"
      ]
    },
    {
      "cell_type": "markdown",
      "metadata": {
        "id": "HhfV-JJviCcP"
      },
      "source": [
        "## ***1. Know Your Data***"
      ]
    },
    {
      "cell_type": "markdown",
      "metadata": {
        "id": "okemS-mzEBS0"
      },
      "source": [
        "Before we diving into the project, our initial step is to familiarize ourselves with the dataset. Let's load the data and take a look."
      ]
    },
    {
      "cell_type": "markdown",
      "metadata": {
        "id": "Y3lxredqlCYt"
      },
      "source": [
        "### Import Libraries"
      ]
    },
    {
      "cell_type": "code",
      "execution_count": 3,
      "metadata": {
        "id": "M8Vqi-pPk-HR"
      },
      "outputs": [],
      "source": [
        "# Import Libraries\n",
        "import numpy as np\n",
        "import pandas as pd\n",
        "import matplotlib.pyplot as plt\n",
        "import seaborn as sns\n",
        "import pickle\n",
        "from sklearn import preprocessing\n",
        "from sklearn.preprocessing import MinMaxScaler, OneHotEncoder\n",
        "from sklearn.model_selection import train_test_split, RandomizedSearchCV\n",
        "from sklearn.linear_model import LinearRegression\n",
        "from sklearn.ensemble import RandomForestRegressor\n",
        "from xgboost import XGBRegressor\n",
        "from sklearn.metrics import mean_squared_error, r2_score, explained_variance_score\n",
        "import time\n",
        "\n",
        "\n",
        "import warnings\n",
        "warnings.filterwarnings('ignore')"
      ]
    },
    {
      "cell_type": "code",
      "execution_count": 4,
      "metadata": {},
      "outputs": [],
      "source": [
        "#!pip install ipykernel\n",
        "#!pip install numpy\n",
        "#!pip install pandas\n",
        "#!pip install matlplotlib\n",
        "#!pip install seaborn\n",
        "#!pip install sklearn-pandas==2.2.0\n",
        "#!pip install xgboost"
      ]
    },
    {
      "cell_type": "markdown",
      "metadata": {
        "id": "3RnN4peoiCZX"
      },
      "source": [
        "### Dataset Loading"
      ]
    },
    {
      "cell_type": "code",
      "execution_count": 5,
      "metadata": {
        "colab": {
          "base_uri": "https://localhost:8080/"
        },
        "id": "4CkvbW_SlZ_R",
        "outputId": "d3e1f5c7-c6fe-4d78-9dc4-b2a0bbba375c"
      },
      "outputs": [],
      "source": [
        "#Mount drive\n",
        "# from google.colab import drive\n",
        "# drive.mount('/content/drive')"
      ]
    },
    {
      "cell_type": "code",
      "execution_count": 6,
      "metadata": {
        "id": "061ZcGlzwd5y"
      },
      "outputs": [],
      "source": [
        "#Load the dataset\n",
        "# df=pd.read_csv('/content/drive/MyDrive/Almabetter/Masters/Specilization/Module1/Capstone/data/flights.csv')\n",
        "df=pd.read_csv('../data/flights.csv')"
      ]
    },
    {
      "cell_type": "code",
      "execution_count": 7,
      "metadata": {
        "id": "OPPbIbDGXOfO"
      },
      "outputs": [],
      "source": [
        "# Change column names to lowercase with underscores instead of spaces\n",
        "df.columns = df.columns.str.lower().str.replace(' ', '_')"
      ]
    },
    {
      "cell_type": "markdown",
      "metadata": {
        "id": "x71ZqKXriCWQ"
      },
      "source": [
        "### Peek into data 👀"
      ]
    },
    {
      "cell_type": "code",
      "execution_count": 8,
      "metadata": {
        "colab": {
          "base_uri": "https://localhost:8080/",
          "height": 112
        },
        "id": "LWNFOSvLl09H",
        "outputId": "706a3506-bd64-4212-892b-bd7b053e7795"
      },
      "outputs": [
        {
          "data": {
            "text/html": [
              "<div>\n",
              "<style scoped>\n",
              "    .dataframe tbody tr th:only-of-type {\n",
              "        vertical-align: middle;\n",
              "    }\n",
              "\n",
              "    .dataframe tbody tr th {\n",
              "        vertical-align: top;\n",
              "    }\n",
              "\n",
              "    .dataframe thead th {\n",
              "        text-align: right;\n",
              "    }\n",
              "</style>\n",
              "<table border=\"1\" class=\"dataframe\">\n",
              "  <thead>\n",
              "    <tr style=\"text-align: right;\">\n",
              "      <th></th>\n",
              "      <th>travelcode</th>\n",
              "      <th>usercode</th>\n",
              "      <th>from</th>\n",
              "      <th>to</th>\n",
              "      <th>flighttype</th>\n",
              "      <th>price</th>\n",
              "      <th>time</th>\n",
              "      <th>distance</th>\n",
              "      <th>agency</th>\n",
              "      <th>date</th>\n",
              "    </tr>\n",
              "  </thead>\n",
              "  <tbody>\n",
              "    <tr>\n",
              "      <th>0</th>\n",
              "      <td>0</td>\n",
              "      <td>0</td>\n",
              "      <td>Recife (PE)</td>\n",
              "      <td>Florianopolis (SC)</td>\n",
              "      <td>firstClass</td>\n",
              "      <td>1434.38</td>\n",
              "      <td>1.76</td>\n",
              "      <td>676.53</td>\n",
              "      <td>FlyingDrops</td>\n",
              "      <td>09/26/2019</td>\n",
              "    </tr>\n",
              "    <tr>\n",
              "      <th>1</th>\n",
              "      <td>0</td>\n",
              "      <td>0</td>\n",
              "      <td>Florianopolis (SC)</td>\n",
              "      <td>Recife (PE)</td>\n",
              "      <td>firstClass</td>\n",
              "      <td>1292.29</td>\n",
              "      <td>1.76</td>\n",
              "      <td>676.53</td>\n",
              "      <td>FlyingDrops</td>\n",
              "      <td>09/30/2019</td>\n",
              "    </tr>\n",
              "  </tbody>\n",
              "</table>\n",
              "</div>"
            ],
            "text/plain": [
              "   travelcode  usercode                from                  to  flighttype  \\\n",
              "0           0         0         Recife (PE)  Florianopolis (SC)  firstClass   \n",
              "1           0         0  Florianopolis (SC)         Recife (PE)  firstClass   \n",
              "\n",
              "     price  time  distance       agency        date  \n",
              "0  1434.38  1.76    676.53  FlyingDrops  09/26/2019  \n",
              "1  1292.29  1.76    676.53  FlyingDrops  09/30/2019  "
            ]
          },
          "execution_count": 8,
          "metadata": {},
          "output_type": "execute_result"
        }
      ],
      "source": [
        "#First 5 rows\n",
        "df.head(2)"
      ]
    },
    {
      "cell_type": "code",
      "execution_count": 9,
      "metadata": {
        "colab": {
          "base_uri": "https://localhost:8080/",
          "height": 112
        },
        "id": "FsD4L_hZxwPJ",
        "outputId": "8243c497-b772-4dc6-9ef4-53a0a1032b03"
      },
      "outputs": [
        {
          "data": {
            "text/html": [
              "<div>\n",
              "<style scoped>\n",
              "    .dataframe tbody tr th:only-of-type {\n",
              "        vertical-align: middle;\n",
              "    }\n",
              "\n",
              "    .dataframe tbody tr th {\n",
              "        vertical-align: top;\n",
              "    }\n",
              "\n",
              "    .dataframe thead th {\n",
              "        text-align: right;\n",
              "    }\n",
              "</style>\n",
              "<table border=\"1\" class=\"dataframe\">\n",
              "  <thead>\n",
              "    <tr style=\"text-align: right;\">\n",
              "      <th></th>\n",
              "      <th>travelcode</th>\n",
              "      <th>usercode</th>\n",
              "      <th>from</th>\n",
              "      <th>to</th>\n",
              "      <th>flighttype</th>\n",
              "      <th>price</th>\n",
              "      <th>time</th>\n",
              "      <th>distance</th>\n",
              "      <th>agency</th>\n",
              "      <th>date</th>\n",
              "    </tr>\n",
              "  </thead>\n",
              "  <tbody>\n",
              "    <tr>\n",
              "      <th>271886</th>\n",
              "      <td>135943</td>\n",
              "      <td>1339</td>\n",
              "      <td>Florianopolis (SC)</td>\n",
              "      <td>Rio de Janeiro (RJ)</td>\n",
              "      <td>economic</td>\n",
              "      <td>313.62</td>\n",
              "      <td>1.21</td>\n",
              "      <td>466.3</td>\n",
              "      <td>CloudFy</td>\n",
              "      <td>07/23/2020</td>\n",
              "    </tr>\n",
              "    <tr>\n",
              "      <th>271887</th>\n",
              "      <td>135943</td>\n",
              "      <td>1339</td>\n",
              "      <td>Rio de Janeiro (RJ)</td>\n",
              "      <td>Florianopolis (SC)</td>\n",
              "      <td>economic</td>\n",
              "      <td>533.69</td>\n",
              "      <td>1.21</td>\n",
              "      <td>466.3</td>\n",
              "      <td>CloudFy</td>\n",
              "      <td>07/26/2020</td>\n",
              "    </tr>\n",
              "  </tbody>\n",
              "</table>\n",
              "</div>"
            ],
            "text/plain": [
              "        travelcode  usercode                 from                   to  \\\n",
              "271886      135943      1339   Florianopolis (SC)  Rio de Janeiro (RJ)   \n",
              "271887      135943      1339  Rio de Janeiro (RJ)   Florianopolis (SC)   \n",
              "\n",
              "       flighttype   price  time  distance   agency        date  \n",
              "271886   economic  313.62  1.21     466.3  CloudFy  07/23/2020  \n",
              "271887   economic  533.69  1.21     466.3  CloudFy  07/26/2020  "
            ]
          },
          "execution_count": 9,
          "metadata": {},
          "output_type": "execute_result"
        }
      ],
      "source": [
        "#Last 5 rows\n",
        "df.tail(2)"
      ]
    },
    {
      "cell_type": "code",
      "execution_count": 10,
      "metadata": {
        "colab": {
          "base_uri": "https://localhost:8080/"
        },
        "id": "Kllu7SJgmLij",
        "outputId": "1a159bb7-b1aa-4555-c63e-64f2d666aab1"
      },
      "outputs": [
        {
          "name": "stdout",
          "output_type": "stream",
          "text": [
            "Shape of original dataframe:  (271888, 10)\n"
          ]
        }
      ],
      "source": [
        "# Dataset Rows & Columns\n",
        "print(f'Shape of original dataframe:  {df.shape}')"
      ]
    },
    {
      "cell_type": "markdown",
      "metadata": {
        "id": "nA9Y7ga8ng1Z"
      },
      "source": [
        "## ***2. Understanding Data & Preprocessing***"
      ]
    },
    {
      "cell_type": "markdown",
      "metadata": {
        "id": "nsBHh7p5GBxE"
      },
      "source": [
        "Moving forward to the next stage, our focus is on gaining a deeper understanding of the data and undertaking the initial preprocessing steps. These initial preprocessing efforts are crucial for enhancing the usability of the data in subsequent analyses."
      ]
    },
    {
      "cell_type": "markdown",
      "metadata": {
        "id": "rKaaJyKJ5dUD"
      },
      "source": [
        "### **Understanding Data**"
      ]
    },
    {
      "cell_type": "code",
      "execution_count": 11,
      "metadata": {
        "colab": {
          "base_uri": "https://localhost:8080/"
        },
        "id": "R676N4wX3anB",
        "outputId": "498d764f-75eb-4d7a-d5f4-4672d62513fe"
      },
      "outputs": [
        {
          "name": "stdout",
          "output_type": "stream",
          "text": [
            "Variables in the dataset : ['travelcode', 'usercode', 'from', 'to', 'flighttype', 'price', 'time', 'distance', 'agency', 'date']\n"
          ]
        }
      ],
      "source": [
        "#Variables in the dataset\n",
        "print(f'Variables in the dataset : {list(df.columns)}')"
      ]
    },
    {
      "cell_type": "markdown",
      "metadata": {
        "id": "PBTbrJXOngz2"
      },
      "source": [
        "**Variables Description**"
      ]
    },
    {
      "cell_type": "markdown",
      "metadata": {
        "id": "aJV4KIxSnxay"
      },
      "source": [
        "- **travelCode:** Identifier for the travel.\n",
        "- **userCode:** User identifier (linked to the Users dataset).\n",
        "- **from:** Origin of the flight.\n",
        "- **to:** Destination of the flight.\n",
        "- **flightType:** Type of flight (e.g., first class).\n",
        "- **price:** Price of the flight.\n",
        "- **time:** Flight duration.\n",
        "- **distance:** Distance of the flight.\n",
        "- **agency:** Flight agency.\n",
        "- **date:** Date of the flight.\n"
      ]
    },
    {
      "cell_type": "code",
      "execution_count": 12,
      "metadata": {
        "id": "iW4ZYkgqazgx"
      },
      "outputs": [],
      "source": [
        "def summary(df):\n",
        "    summry = pd.DataFrame(df.dtypes, columns=['data type'])\n",
        "    summry['#missing'] = df.isnull().sum().values\n",
        "    summry['#duplicate'] = df.duplicated().sum()\n",
        "    summry['#unique'] = df.nunique().values\n",
        "    desc = pd.DataFrame(df.describe(include='all').transpose())\n",
        "    summry['min'] = desc['min'].values\n",
        "    summry['max'] = desc['max'].values\n",
        "    summry['avg'] = desc['mean'].values\n",
        "    summry['std dev'] = desc['std'].values\n",
        "    summry['top value'] = desc['top'].values\n",
        "    summry['freq'] = desc['freq'].values\n",
        "\n",
        "    return summry"
      ]
    },
    {
      "cell_type": "code",
      "execution_count": 13,
      "metadata": {
        "colab": {
          "base_uri": "https://localhost:8080/",
          "height": 387
        },
        "id": "qjK5c6CXa4iS",
        "outputId": "f440498a-1444-4f9f-c38e-02a476f1b94e"
      },
      "outputs": [
        {
          "data": {
            "text/html": [
              "<style type=\"text/css\">\n",
              "#T_17693_row0_col0, #T_17693_row0_col4, #T_17693_row0_col5, #T_17693_row0_col6, #T_17693_row0_col7, #T_17693_row0_col8, #T_17693_row0_col9, #T_17693_row1_col0, #T_17693_row1_col4, #T_17693_row1_col5, #T_17693_row1_col6, #T_17693_row1_col7, #T_17693_row1_col8, #T_17693_row1_col9, #T_17693_row2_col0, #T_17693_row2_col4, #T_17693_row2_col5, #T_17693_row2_col6, #T_17693_row2_col7, #T_17693_row2_col8, #T_17693_row2_col9, #T_17693_row3_col0, #T_17693_row3_col4, #T_17693_row3_col5, #T_17693_row3_col6, #T_17693_row3_col7, #T_17693_row3_col8, #T_17693_row3_col9, #T_17693_row4_col0, #T_17693_row4_col4, #T_17693_row4_col5, #T_17693_row4_col6, #T_17693_row4_col7, #T_17693_row4_col8, #T_17693_row4_col9, #T_17693_row5_col0, #T_17693_row5_col4, #T_17693_row5_col5, #T_17693_row5_col6, #T_17693_row5_col7, #T_17693_row5_col8, #T_17693_row5_col9, #T_17693_row6_col0, #T_17693_row6_col4, #T_17693_row6_col5, #T_17693_row6_col6, #T_17693_row6_col7, #T_17693_row6_col8, #T_17693_row6_col9, #T_17693_row7_col0, #T_17693_row7_col4, #T_17693_row7_col5, #T_17693_row7_col6, #T_17693_row7_col7, #T_17693_row7_col8, #T_17693_row7_col9, #T_17693_row8_col0, #T_17693_row8_col4, #T_17693_row8_col5, #T_17693_row8_col6, #T_17693_row8_col7, #T_17693_row8_col8, #T_17693_row8_col9, #T_17693_row9_col0, #T_17693_row9_col4, #T_17693_row9_col5, #T_17693_row9_col6, #T_17693_row9_col7, #T_17693_row9_col8, #T_17693_row9_col9 {\n",
              "  border: 1.3px dotted;\n",
              "  color: ;\n",
              "  caption-side: left;\n",
              "}\n",
              "#T_17693_row0_col1, #T_17693_row0_col2, #T_17693_row1_col1, #T_17693_row1_col2, #T_17693_row2_col1, #T_17693_row2_col2, #T_17693_row2_col3, #T_17693_row3_col1, #T_17693_row3_col2, #T_17693_row3_col3, #T_17693_row4_col1, #T_17693_row4_col2, #T_17693_row4_col3, #T_17693_row5_col1, #T_17693_row5_col2, #T_17693_row5_col3, #T_17693_row6_col1, #T_17693_row6_col2, #T_17693_row6_col3, #T_17693_row7_col1, #T_17693_row7_col2, #T_17693_row7_col3, #T_17693_row8_col1, #T_17693_row8_col2, #T_17693_row8_col3, #T_17693_row9_col1, #T_17693_row9_col2 {\n",
              "  background-color: #f7fbff;\n",
              "  color: #000000;\n",
              "  border: 1.3px dotted;\n",
              "  color: ;\n",
              "  caption-side: left;\n",
              "}\n",
              "#T_17693_row0_col3 {\n",
              "  background-color: #08306b;\n",
              "  color: #f1f1f1;\n",
              "  border: 1.3px dotted;\n",
              "  color: ;\n",
              "  caption-side: left;\n",
              "}\n",
              "#T_17693_row1_col3 {\n",
              "  background-color: #f5fafe;\n",
              "  color: #000000;\n",
              "  border: 1.3px dotted;\n",
              "  color: ;\n",
              "  caption-side: left;\n",
              "}\n",
              "#T_17693_row9_col3 {\n",
              "  background-color: #f6faff;\n",
              "  color: #000000;\n",
              "  border: 1.3px dotted;\n",
              "  color: ;\n",
              "  caption-side: left;\n",
              "}\n",
              "</style>\n",
              "<table id=\"T_17693\">\n",
              "  <caption> Summary of the Data </caption>\n",
              "  <thead>\n",
              "    <tr>\n",
              "      <th class=\"blank level0\" >&nbsp;</th>\n",
              "      <th id=\"T_17693_level0_col0\" class=\"col_heading level0 col0\" >data type</th>\n",
              "      <th id=\"T_17693_level0_col1\" class=\"col_heading level0 col1\" >#missing</th>\n",
              "      <th id=\"T_17693_level0_col2\" class=\"col_heading level0 col2\" >#duplicate</th>\n",
              "      <th id=\"T_17693_level0_col3\" class=\"col_heading level0 col3\" >#unique</th>\n",
              "      <th id=\"T_17693_level0_col4\" class=\"col_heading level0 col4\" >min</th>\n",
              "      <th id=\"T_17693_level0_col5\" class=\"col_heading level0 col5\" >max</th>\n",
              "      <th id=\"T_17693_level0_col6\" class=\"col_heading level0 col6\" >avg</th>\n",
              "      <th id=\"T_17693_level0_col7\" class=\"col_heading level0 col7\" >std dev</th>\n",
              "      <th id=\"T_17693_level0_col8\" class=\"col_heading level0 col8\" >top value</th>\n",
              "      <th id=\"T_17693_level0_col9\" class=\"col_heading level0 col9\" >freq</th>\n",
              "    </tr>\n",
              "  </thead>\n",
              "  <tbody>\n",
              "    <tr>\n",
              "      <th id=\"T_17693_level0_row0\" class=\"row_heading level0 row0\" >travelcode</th>\n",
              "      <td id=\"T_17693_row0_col0\" class=\"data row0 col0\" >int64</td>\n",
              "      <td id=\"T_17693_row0_col1\" class=\"data row0 col1\" >0</td>\n",
              "      <td id=\"T_17693_row0_col2\" class=\"data row0 col2\" >0</td>\n",
              "      <td id=\"T_17693_row0_col3\" class=\"data row0 col3\" >135944</td>\n",
              "      <td id=\"T_17693_row0_col4\" class=\"data row0 col4\" >0.000000</td>\n",
              "      <td id=\"T_17693_row0_col5\" class=\"data row0 col5\" >135943.000000</td>\n",
              "      <td id=\"T_17693_row0_col6\" class=\"data row0 col6\" >67971.500000</td>\n",
              "      <td id=\"T_17693_row0_col7\" class=\"data row0 col7\" >39243.724665</td>\n",
              "      <td id=\"T_17693_row0_col8\" class=\"data row0 col8\" >nan</td>\n",
              "      <td id=\"T_17693_row0_col9\" class=\"data row0 col9\" >nan</td>\n",
              "    </tr>\n",
              "    <tr>\n",
              "      <th id=\"T_17693_level0_row1\" class=\"row_heading level0 row1\" >usercode</th>\n",
              "      <td id=\"T_17693_row1_col0\" class=\"data row1 col0\" >int64</td>\n",
              "      <td id=\"T_17693_row1_col1\" class=\"data row1 col1\" >0</td>\n",
              "      <td id=\"T_17693_row1_col2\" class=\"data row1 col2\" >0</td>\n",
              "      <td id=\"T_17693_row1_col3\" class=\"data row1 col3\" >1335</td>\n",
              "      <td id=\"T_17693_row1_col4\" class=\"data row1 col4\" >0.000000</td>\n",
              "      <td id=\"T_17693_row1_col5\" class=\"data row1 col5\" >1339.000000</td>\n",
              "      <td id=\"T_17693_row1_col6\" class=\"data row1 col6\" >667.505495</td>\n",
              "      <td id=\"T_17693_row1_col7\" class=\"data row1 col7\" >389.523127</td>\n",
              "      <td id=\"T_17693_row1_col8\" class=\"data row1 col8\" >nan</td>\n",
              "      <td id=\"T_17693_row1_col9\" class=\"data row1 col9\" >nan</td>\n",
              "    </tr>\n",
              "    <tr>\n",
              "      <th id=\"T_17693_level0_row2\" class=\"row_heading level0 row2\" >from</th>\n",
              "      <td id=\"T_17693_row2_col0\" class=\"data row2 col0\" >object</td>\n",
              "      <td id=\"T_17693_row2_col1\" class=\"data row2 col1\" >0</td>\n",
              "      <td id=\"T_17693_row2_col2\" class=\"data row2 col2\" >0</td>\n",
              "      <td id=\"T_17693_row2_col3\" class=\"data row2 col3\" >9</td>\n",
              "      <td id=\"T_17693_row2_col4\" class=\"data row2 col4\" >nan</td>\n",
              "      <td id=\"T_17693_row2_col5\" class=\"data row2 col5\" >nan</td>\n",
              "      <td id=\"T_17693_row2_col6\" class=\"data row2 col6\" >nan</td>\n",
              "      <td id=\"T_17693_row2_col7\" class=\"data row2 col7\" >nan</td>\n",
              "      <td id=\"T_17693_row2_col8\" class=\"data row2 col8\" >Florianopolis (SC)</td>\n",
              "      <td id=\"T_17693_row2_col9\" class=\"data row2 col9\" >57317</td>\n",
              "    </tr>\n",
              "    <tr>\n",
              "      <th id=\"T_17693_level0_row3\" class=\"row_heading level0 row3\" >to</th>\n",
              "      <td id=\"T_17693_row3_col0\" class=\"data row3 col0\" >object</td>\n",
              "      <td id=\"T_17693_row3_col1\" class=\"data row3 col1\" >0</td>\n",
              "      <td id=\"T_17693_row3_col2\" class=\"data row3 col2\" >0</td>\n",
              "      <td id=\"T_17693_row3_col3\" class=\"data row3 col3\" >9</td>\n",
              "      <td id=\"T_17693_row3_col4\" class=\"data row3 col4\" >nan</td>\n",
              "      <td id=\"T_17693_row3_col5\" class=\"data row3 col5\" >nan</td>\n",
              "      <td id=\"T_17693_row3_col6\" class=\"data row3 col6\" >nan</td>\n",
              "      <td id=\"T_17693_row3_col7\" class=\"data row3 col7\" >nan</td>\n",
              "      <td id=\"T_17693_row3_col8\" class=\"data row3 col8\" >Florianopolis (SC)</td>\n",
              "      <td id=\"T_17693_row3_col9\" class=\"data row3 col9\" >57317</td>\n",
              "    </tr>\n",
              "    <tr>\n",
              "      <th id=\"T_17693_level0_row4\" class=\"row_heading level0 row4\" >flighttype</th>\n",
              "      <td id=\"T_17693_row4_col0\" class=\"data row4 col0\" >object</td>\n",
              "      <td id=\"T_17693_row4_col1\" class=\"data row4 col1\" >0</td>\n",
              "      <td id=\"T_17693_row4_col2\" class=\"data row4 col2\" >0</td>\n",
              "      <td id=\"T_17693_row4_col3\" class=\"data row4 col3\" >3</td>\n",
              "      <td id=\"T_17693_row4_col4\" class=\"data row4 col4\" >nan</td>\n",
              "      <td id=\"T_17693_row4_col5\" class=\"data row4 col5\" >nan</td>\n",
              "      <td id=\"T_17693_row4_col6\" class=\"data row4 col6\" >nan</td>\n",
              "      <td id=\"T_17693_row4_col7\" class=\"data row4 col7\" >nan</td>\n",
              "      <td id=\"T_17693_row4_col8\" class=\"data row4 col8\" >firstClass</td>\n",
              "      <td id=\"T_17693_row4_col9\" class=\"data row4 col9\" >116418</td>\n",
              "    </tr>\n",
              "    <tr>\n",
              "      <th id=\"T_17693_level0_row5\" class=\"row_heading level0 row5\" >price</th>\n",
              "      <td id=\"T_17693_row5_col0\" class=\"data row5 col0\" >float64</td>\n",
              "      <td id=\"T_17693_row5_col1\" class=\"data row5 col1\" >0</td>\n",
              "      <td id=\"T_17693_row5_col2\" class=\"data row5 col2\" >0</td>\n",
              "      <td id=\"T_17693_row5_col3\" class=\"data row5 col3\" >490</td>\n",
              "      <td id=\"T_17693_row5_col4\" class=\"data row5 col4\" >301.510000</td>\n",
              "      <td id=\"T_17693_row5_col5\" class=\"data row5 col5\" >1754.170000</td>\n",
              "      <td id=\"T_17693_row5_col6\" class=\"data row5 col6\" >957.375030</td>\n",
              "      <td id=\"T_17693_row5_col7\" class=\"data row5 col7\" >362.311890</td>\n",
              "      <td id=\"T_17693_row5_col8\" class=\"data row5 col8\" >nan</td>\n",
              "      <td id=\"T_17693_row5_col9\" class=\"data row5 col9\" >nan</td>\n",
              "    </tr>\n",
              "    <tr>\n",
              "      <th id=\"T_17693_level0_row6\" class=\"row_heading level0 row6\" >time</th>\n",
              "      <td id=\"T_17693_row6_col0\" class=\"data row6 col0\" >float64</td>\n",
              "      <td id=\"T_17693_row6_col1\" class=\"data row6 col1\" >0</td>\n",
              "      <td id=\"T_17693_row6_col2\" class=\"data row6 col2\" >0</td>\n",
              "      <td id=\"T_17693_row6_col3\" class=\"data row6 col3\" >33</td>\n",
              "      <td id=\"T_17693_row6_col4\" class=\"data row6 col4\" >0.440000</td>\n",
              "      <td id=\"T_17693_row6_col5\" class=\"data row6 col5\" >2.440000</td>\n",
              "      <td id=\"T_17693_row6_col6\" class=\"data row6 col6\" >1.421147</td>\n",
              "      <td id=\"T_17693_row6_col7\" class=\"data row6 col7\" >0.542541</td>\n",
              "      <td id=\"T_17693_row6_col8\" class=\"data row6 col8\" >nan</td>\n",
              "      <td id=\"T_17693_row6_col9\" class=\"data row6 col9\" >nan</td>\n",
              "    </tr>\n",
              "    <tr>\n",
              "      <th id=\"T_17693_level0_row7\" class=\"row_heading level0 row7\" >distance</th>\n",
              "      <td id=\"T_17693_row7_col0\" class=\"data row7 col0\" >float64</td>\n",
              "      <td id=\"T_17693_row7_col1\" class=\"data row7 col1\" >0</td>\n",
              "      <td id=\"T_17693_row7_col2\" class=\"data row7 col2\" >0</td>\n",
              "      <td id=\"T_17693_row7_col3\" class=\"data row7 col3\" >35</td>\n",
              "      <td id=\"T_17693_row7_col4\" class=\"data row7 col4\" >168.220000</td>\n",
              "      <td id=\"T_17693_row7_col5\" class=\"data row7 col5\" >937.770000</td>\n",
              "      <td id=\"T_17693_row7_col6\" class=\"data row7 col6\" >546.955535</td>\n",
              "      <td id=\"T_17693_row7_col7\" class=\"data row7 col7\" >208.851288</td>\n",
              "      <td id=\"T_17693_row7_col8\" class=\"data row7 col8\" >nan</td>\n",
              "      <td id=\"T_17693_row7_col9\" class=\"data row7 col9\" >nan</td>\n",
              "    </tr>\n",
              "    <tr>\n",
              "      <th id=\"T_17693_level0_row8\" class=\"row_heading level0 row8\" >agency</th>\n",
              "      <td id=\"T_17693_row8_col0\" class=\"data row8 col0\" >object</td>\n",
              "      <td id=\"T_17693_row8_col1\" class=\"data row8 col1\" >0</td>\n",
              "      <td id=\"T_17693_row8_col2\" class=\"data row8 col2\" >0</td>\n",
              "      <td id=\"T_17693_row8_col3\" class=\"data row8 col3\" >3</td>\n",
              "      <td id=\"T_17693_row8_col4\" class=\"data row8 col4\" >nan</td>\n",
              "      <td id=\"T_17693_row8_col5\" class=\"data row8 col5\" >nan</td>\n",
              "      <td id=\"T_17693_row8_col6\" class=\"data row8 col6\" >nan</td>\n",
              "      <td id=\"T_17693_row8_col7\" class=\"data row8 col7\" >nan</td>\n",
              "      <td id=\"T_17693_row8_col8\" class=\"data row8 col8\" >Rainbow</td>\n",
              "      <td id=\"T_17693_row8_col9\" class=\"data row8 col9\" >116752</td>\n",
              "    </tr>\n",
              "    <tr>\n",
              "      <th id=\"T_17693_level0_row9\" class=\"row_heading level0 row9\" >date</th>\n",
              "      <td id=\"T_17693_row9_col0\" class=\"data row9 col0\" >object</td>\n",
              "      <td id=\"T_17693_row9_col1\" class=\"data row9 col1\" >0</td>\n",
              "      <td id=\"T_17693_row9_col2\" class=\"data row9 col2\" >0</td>\n",
              "      <td id=\"T_17693_row9_col3\" class=\"data row9 col3\" >999</td>\n",
              "      <td id=\"T_17693_row9_col4\" class=\"data row9 col4\" >nan</td>\n",
              "      <td id=\"T_17693_row9_col5\" class=\"data row9 col5\" >nan</td>\n",
              "      <td id=\"T_17693_row9_col6\" class=\"data row9 col6\" >nan</td>\n",
              "      <td id=\"T_17693_row9_col7\" class=\"data row9 col7\" >nan</td>\n",
              "      <td id=\"T_17693_row9_col8\" class=\"data row9 col8\" >09/26/2019</td>\n",
              "      <td id=\"T_17693_row9_col9\" class=\"data row9 col9\" >1335</td>\n",
              "    </tr>\n",
              "  </tbody>\n",
              "</table>\n"
            ],
            "text/plain": [
              "<pandas.io.formats.style.Styler at 0x1e70b427e50>"
            ]
          },
          "execution_count": 13,
          "metadata": {},
          "output_type": "execute_result"
        }
      ],
      "source": [
        "summary(df).style.set_caption(\" Summary of the Data \").\\\n",
        "background_gradient(cmap='Blues', axis=0). \\\n",
        "set_properties(**{'border': '1.3px dotted', 'color': '', 'caption-side': 'left'})"
      ]
    },
    {
      "cell_type": "code",
      "execution_count": 14,
      "metadata": {
        "colab": {
          "base_uri": "https://localhost:8080/"
        },
        "id": "rHTaonPCXIuF",
        "outputId": "1f75c0ea-697b-42fe-9079-321bf1a2de77"
      },
      "outputs": [
        {
          "name": "stdout",
          "output_type": "stream",
          "text": [
            "There are 9 unique values and counts of each in from\n",
            "Florianopolis (SC)     57317\n",
            "Aracaju (SE)           37224\n",
            "Campo Grande (MS)      34748\n",
            "Brasilia (DF)          30779\n",
            "Recife (PE)            30480\n",
            "Natal (RN)             23796\n",
            "Sao Paulo (SP)         23625\n",
            "Salvador (BH)          17104\n",
            "Rio de Janeiro (RJ)    16815\n",
            "Name: count, dtype: int64\n",
            "\n",
            "There are 9 unique values and counts of each in to\n",
            "Florianopolis (SC)     57317\n",
            "Aracaju (SE)           37224\n",
            "Campo Grande (MS)      34748\n",
            "Brasilia (DF)          30779\n",
            "Recife (PE)            30480\n",
            "Natal (RN)             23796\n",
            "Sao Paulo (SP)         23625\n",
            "Salvador (BH)          17104\n",
            "Rio de Janeiro (RJ)    16815\n",
            "Name: count, dtype: int64\n",
            "\n",
            "There are 3 unique values and counts of each in flighttype\n",
            "firstClass    116418\n",
            "premium        78004\n",
            "economic       77466\n",
            "Name: count, dtype: int64\n",
            "\n",
            "There are 3 unique values and counts of each in agency\n",
            "Rainbow        116752\n",
            "CloudFy        116378\n",
            "FlyingDrops     38758\n",
            "Name: count, dtype: int64\n",
            "\n"
          ]
        }
      ],
      "source": [
        "def print_unique_counts(df, columns):\n",
        "    for col in columns:\n",
        "        unique_count = df[col].nunique()\n",
        "        value_counts = df[col].value_counts()\n",
        "        print(f\"There are {unique_count} unique values and counts of each in {value_counts}\\n\")\n",
        "\n",
        "# Columns to check uniques and values\n",
        "columns_to_print = ['from', 'to', 'flighttype', 'agency']\n",
        "print_unique_counts(df, columns_to_print)"
      ]
    },
    {
      "cell_type": "markdown",
      "metadata": {
        "id": "BMxWytdT5oEO"
      },
      "source": [
        "### ***Data Preprocessing***\n",
        "This step before EDA helps us to understand data easily further\n",
        "1. Drop the unique identifier and check for duplicates. As the unique identifier is a row generator.\n",
        "2. Date type conversion.\n",
        "3. Fill missing values in customer review column with ''\n"
      ]
    },
    {
      "cell_type": "code",
      "execution_count": 15,
      "metadata": {
        "id": "QIuM_FJcX37u"
      },
      "outputs": [],
      "source": [
        "# This function helps us to check and drop duplicates whenever required\n",
        "def check_drop_duplications(df):\n",
        "  if len(df[df.duplicated()]) > 0:\n",
        "    print(f'Count of duplicate rows : {len(df[df.duplicated()])}')\n",
        "    print(f'Dropping duplicates')\n",
        "    df = df.drop_duplicates()\n",
        "  else:\n",
        "    print(f'There are no duplicates.')\n",
        "  return df"
      ]
    },
    {
      "cell_type": "code",
      "execution_count": 16,
      "metadata": {
        "id": "ZUQZDwcmYDJ2"
      },
      "outputs": [],
      "source": [
        "# Dropping identifiers\n",
        "df = df.drop(columns = ['travelcode','usercode'])"
      ]
    },
    {
      "cell_type": "code",
      "execution_count": 17,
      "metadata": {
        "colab": {
          "base_uri": "https://localhost:8080/"
        },
        "id": "pXWO-Y_ZVKk_",
        "outputId": "43f10a59-ff11-40b4-f239-2e9bcc735eeb"
      },
      "outputs": [
        {
          "name": "stdout",
          "output_type": "stream",
          "text": [
            "Count of duplicate rows : 122404\n",
            "Dropping duplicates\n"
          ]
        }
      ],
      "source": [
        "# Lets see if we have any duplicate rows\n",
        "df = check_drop_duplications(df)"
      ]
    },
    {
      "cell_type": "code",
      "execution_count": 18,
      "metadata": {
        "id": "W4vi4xD-7QCv"
      },
      "outputs": [],
      "source": [
        "# Converting datetime columns to same format\n",
        "df['date'] = pd.to_datetime(df['date'], format='mixed', dayfirst=True)"
      ]
    },
    {
      "cell_type": "markdown",
      "metadata": {
        "id": "GF8Ens_Soomf"
      },
      "source": [
        "## ***3. Exploratory Data Analysis***"
      ]
    },
    {
      "cell_type": "markdown",
      "metadata": {
        "id": "j6mR8astPv44"
      },
      "source": [
        "#### Chart-1 Numerical features distribution"
      ]
    },
    {
      "cell_type": "code",
      "execution_count": 19,
      "metadata": {
        "colab": {
          "base_uri": "https://localhost:8080/",
          "height": 622
        },
        "id": "pcGgopGlLBhC",
        "outputId": "6af44490-834b-4c0e-9528-3fca49a55f0d"
      },
      "outputs": [
        {
          "data": {
            "image/png": "[encoded data removed]",
            "text/plain": [
              "<Figure size 720x504 with 4 Axes>"
            ]
          },
          "metadata": {
            "needs_background": "light"
          },
          "output_type": "display_data"
        }
      ],
      "source": [
        "# Check the distributions of price, time and distance.\n",
        "numerical_features = ['price', 'time', 'distance']\n",
        "df[numerical_features].hist(bins=30, figsize=(10, 7))\n",
        "plt.show()"
      ]
    },
    {
      "cell_type": "markdown",
      "metadata": {
        "id": "FKgi_OAnCsy9"
      },
      "source": [
        "#### Chart - 2 Categorical features distribution\n",
        "\n"
      ]
    },
    {
      "cell_type": "code",
      "execution_count": 20,
      "metadata": {
        "colab": {
          "base_uri": "https://localhost:8080/",
          "height": 1000
        },
        "id": "VpQtOiF2EoUN",
        "outputId": "753446c8-fb00-452e-d4e0-71e0e2bdd41c"
      },
      "outputs": [
        {
          "data": {
            "image/png": "[encoded data removed]",
            "text/plain": [
              "<Figure size 432x288 with 1 Axes>"
            ]
          },
          "metadata": {
            "needs_background": "light"
          },
          "output_type": "display_data"
        },
        {
          "data": {
            "image/png": "[encoded data removed]",
            "text/plain": [
              "<Figure size 432x288 with 1 Axes>"
            ]
          },
          "metadata": {
            "needs_background": "light"
          },
          "output_type": "display_data"
        },
        {
          "data": {
            "image/png": "[encoded data removed]",
            "text/plain": [
              "<Figure size 432x288 with 1 Axes>"
            ]
          },
          "metadata": {
            "needs_background": "light"
          },
          "output_type": "display_data"
        },
        {
          "data": {
            "image/png": "[encoded data removed]",
            "text/plain": [
              "<Figure size 432x288 with 1 Axes>"
            ]
          },
          "metadata": {
            "needs_background": "light"
          },
          "output_type": "display_data"
        }
      ],
      "source": [
        "categorical_features = ['from', 'to', 'flighttype', 'agency']\n",
        "\n",
        "for feature in categorical_features:\n",
        "    df[feature].value_counts().plot(kind='bar')\n",
        "    plt.title(f'Distribution of {feature}')\n",
        "    plt.show()"
      ]
    },
    {
      "cell_type": "markdown",
      "metadata": {
        "id": "2_hA8tsjvLSD"
      },
      "source": [
        "#### Chart 3 - Correlation between price and time, distance"
      ]
    },
    {
      "cell_type": "code",
      "execution_count": 21,
      "metadata": {
        "colab": {
          "base_uri": "https://localhost:8080/",
          "height": 452
        },
        "id": "gq8HI-g-4WxO",
        "outputId": "65ba9ac2-4ccc-48b4-ba07-de412e846ef0"
      },
      "outputs": [
        {
          "data": {
            "image/png": "[encoded data removed]",
            "text/plain": [
              "<Figure size 432x288 with 2 Axes>"
            ]
          },
          "metadata": {
            "needs_background": "light"
          },
          "output_type": "display_data"
        }
      ],
      "source": [
        "correlation_matrix = df[numerical_features].corr()\n",
        "sns.heatmap(correlation_matrix, annot=True, cmap='coolwarm')\n",
        "plt.title('Correlation Matrix')\n",
        "plt.show()"
      ]
    },
    {
      "cell_type": "markdown",
      "metadata": {
        "id": "zQY6D22Vyloa"
      },
      "source": [
        "#### Chart 4 - Categorical features over numerical features distributions"
      ]
    },
    {
      "cell_type": "code",
      "execution_count": 22,
      "metadata": {
        "colab": {
          "base_uri": "https://localhost:8080/",
          "height": 1000
        },
        "id": "vxClqppRylob",
        "outputId": "841ba646-9c31-4ac9-d903-329a18911a9e"
      },
      "outputs": [
        {
          "data": {
            "image/png": "[encoded data removed]",
            "text/plain": [
              "<Figure size 432x288 with 1 Axes>"
            ]
          },
          "metadata": {
            "needs_background": "light"
          },
          "output_type": "display_data"
        },
        {
          "data": {
            "image/png": "[encoded data removed]",
            "text/plain": [
              "<Figure size 432x288 with 1 Axes>"
            ]
          },
          "metadata": {
            "needs_background": "light"
          },
          "output_type": "display_data"
        },
        {
          "data": {
            "image/png": "[encoded data removed]",
            "text/plain": [
              "<Figure size 432x288 with 1 Axes>"
            ]
          },
          "metadata": {
            "needs_background": "light"
          },
          "output_type": "display_data"
        },
        {
          "data": {
            "image/png": "[encoded data removed]",
            "text/plain": [
              "<Figure size 432x288 with 1 Axes>"
            ]
          },
          "metadata": {
            "needs_background": "light"
          },
          "output_type": "display_data"
        }
      ],
      "source": [
        "for feature in categorical_features:\n",
        "    sns.boxplot(x=feature, y='price', data=df)\n",
        "    plt.title(f'Price Distribution by {feature}')\n",
        "    plt.show()"
      ]
    },
    {
      "cell_type": "markdown",
      "metadata": {
        "id": "cOX5_u4bF83_"
      },
      "source": [
        "#### Chart - 5 Price over time"
      ]
    },
    {
      "cell_type": "code",
      "execution_count": 23,
      "metadata": {
        "colab": {
          "base_uri": "https://localhost:8080/",
          "height": 564
        },
        "id": "M-ingsuUF8id",
        "outputId": "b44f90a2-8728-4f3d-8b78-0e70f5d73cbb"
      },
      "outputs": [
        {
          "data": {
            "image/png": "[encoded data removed]",
            "text/plain": [
              "<Figure size 720x432 with 1 Axes>"
            ]
          },
          "metadata": {
            "needs_background": "light"
          },
          "output_type": "display_data"
        }
      ],
      "source": [
        "# Aggregate data to get average price per month\n",
        "monthly_avg_price = df[['date','price']]\n",
        "monthly_avg_price.set_index('date', inplace = True)\n",
        "monthly_avg_price = monthly_avg_price['price'].resample('M').mean()\n",
        "\n",
        "# Plot average price per month\n",
        "plt.figure(figsize=(10, 6))\n",
        "plt.plot(monthly_avg_price, label='Monthly Average Price')\n",
        "plt.title('Monthly Average Flight Price Over Time')\n",
        "plt.xlabel('Date')\n",
        "plt.ylabel('Average Price')\n",
        "plt.legend()\n",
        "plt.show()"
      ]
    },
    {
      "cell_type": "code",
      "execution_count": 24,
      "metadata": {
        "colab": {
          "base_uri": "https://localhost:8080/",
          "height": 718
        },
        "id": "oMK1V9yWOg2Y",
        "outputId": "329da7b1-78dc-4a9d-d6c9-6422f1dac6f1"
      },
      "outputs": [
        {
          "data": {
            "image/png": "[encoded data removed]",
            "text/plain": [
              "<Figure size 864x576 with 1 Axes>"
            ]
          },
          "metadata": {
            "needs_background": "light"
          },
          "output_type": "display_data"
        }
      ],
      "source": [
        "# Create a separate DataFrame for monthly average price calculations\n",
        "monthly_avg_df = df.copy()\n",
        "\n",
        "# Extract year and month from the date\n",
        "monthly_avg_df['year'] = monthly_avg_df['date'].dt.year\n",
        "monthly_avg_df['month'] = monthly_avg_df['date'].dt.month\n",
        "\n",
        "# Calculate monthly average price\n",
        "monthly_avg_price = monthly_avg_df.groupby(['year', 'month'])['price'].mean().unstack(level=0)\n",
        "\n",
        "# Plot the monthly average price for each year\n",
        "plt.figure(figsize=(12, 8))\n",
        "for year in monthly_avg_price.columns:\n",
        "    plt.plot(monthly_avg_price.index, monthly_avg_price[year], label=str(year))\n",
        "\n",
        "plt.title('Monthly Average Flight Price Over Years')\n",
        "plt.xlabel('Month')\n",
        "plt.ylabel('Average Price')\n",
        "plt.legend(title='Year')\n",
        "plt.xticks(range(1, 13))\n",
        "plt.grid(True)\n",
        "plt.show()"
      ]
    },
    {
      "cell_type": "markdown",
      "metadata": {
        "id": "6NLej2X2ctdG"
      },
      "source": [
        "### Overall Insights"
      ]
    },
    {
      "cell_type": "markdown",
      "metadata": {
        "id": "8mSW6zdPc78F"
      },
      "source": []
    },
    {
      "cell_type": "markdown",
      "metadata": {
        "id": "yLjJCtPM0KBk"
      },
      "source": [
        "## ***4. Feature Engineering***"
      ]
    },
    {
      "cell_type": "markdown",
      "metadata": {
        "id": "xiyOF9F70UgQ"
      },
      "source": [
        "### 1. Feature Engineering"
      ]
    },
    {
      "cell_type": "code",
      "execution_count": 25,
      "metadata": {
        "id": "ehcLf5kGeKOJ"
      },
      "outputs": [],
      "source": [
        "# Load these functions in predict.py\n",
        "\n",
        "# Define fixed holiday dates\n",
        "fixed_holidays = {\n",
        "    'new_year': (1, 1),\n",
        "    'valentines': (2, 14),\n",
        "    'christmas': (12, 25)\n",
        "}\n",
        "\n",
        "def get_mothers_day(year):\n",
        "    \"\"\"Return the date of the second Sunday in May for the given year.\"\"\"\n",
        "    may_first = pd.Timestamp(year, 5, 1)\n",
        "    # Find the first Sunday in May\n",
        "    first_sunday = may_first + pd.offsets.Week(weekday=6)\n",
        "    # Mother's Day is the second Sunday in May\n",
        "    mothers_day = first_sunday + pd.offsets.Week(weekday=6)\n",
        "    return mothers_day\n",
        "\n",
        "def get_thanksgiving(year):\n",
        "    \"\"\"Return the date of the fourth Thursday in November for the given year.\"\"\"\n",
        "    nov_first = pd.Timestamp(year, 11, 1)\n",
        "    # Find the first Thursday in November\n",
        "    first_thursday = nov_first + pd.offsets.Week(weekday=3)\n",
        "    # Thanksgiving is the fourth Thursday in November\n",
        "    thanksgiving = first_thursday + pd.offsets.Week(weekday=3, n=3)\n",
        "    return thanksgiving\n",
        "\n",
        "def get_cyber_monday(year):\n",
        "    \"\"\"Return the date of the Monday after Thanksgiving for the given year.\"\"\"\n",
        "    thanksgiving = get_thanksgiving(year)\n",
        "    cyber_monday = thanksgiving + pd.DateOffset(days=4)\n",
        "    return cyber_monday\n",
        "\n",
        "def is_holiday(date):\n",
        "    # Check fixed holidays\n",
        "    for month, day in fixed_holidays.values():\n",
        "        holiday_date = pd.Timestamp(date.year, month, day)\n",
        "        if abs((date - holiday_date).days) <= 7:\n",
        "            return 1\n",
        "\n",
        "    # Check dynamic holidays\n",
        "    year = date.year\n",
        "\n",
        "    # Mother's Day\n",
        "    mothers_day = get_mothers_day(year)\n",
        "    if abs((date - mothers_day).days) <= 7:\n",
        "        return 1\n",
        "\n",
        "    # Thanksgiving\n",
        "    thanksgiving = get_thanksgiving(year)\n",
        "    if abs((date - thanksgiving).days) <= 7:\n",
        "        return 1\n",
        "\n",
        "    # Cyber Monday\n",
        "    cyber_monday = get_cyber_monday(year)\n",
        "    if abs((date - cyber_monday).days) <= 7:\n",
        "        return 1\n",
        "\n",
        "    return 0"
      ]
    },
    {
      "cell_type": "code",
      "execution_count": 26,
      "metadata": {
        "id": "77Yv5RSogW4B"
      },
      "outputs": [],
      "source": [
        "# Create new features\n",
        "df['is_holiday_period'] = df['date'].apply(is_holiday)\n",
        "df['month'] = df['date'].dt.month\n",
        "df['weekday'] = df['date'].dt.weekday\n",
        "df['weeknum'] = df['date'].dt.isocalendar().week\n",
        "df['is_weekend'] = df['weekday'].isin([5, 6]).astype(int)"
      ]
    },
    {
      "cell_type": "markdown",
      "metadata": {
        "id": "f5K44XEapmva"
      },
      "source": [
        "### 2. Drop Unnecesary columns"
      ]
    },
    {
      "cell_type": "code",
      "execution_count": 27,
      "metadata": {
        "colab": {
          "base_uri": "https://localhost:8080/"
        },
        "id": "GeGrUrsR85gv",
        "outputId": "85cf91dd-391b-4fdf-8125-f7039f28cf65"
      },
      "outputs": [
        {
          "name": "stdout",
          "output_type": "stream",
          "text": [
            "<class 'pandas.core.frame.DataFrame'>\n",
            "Index: 149484 entries, 0 to 271851\n",
            "Data columns (total 12 columns):\n",
            " #   Column             Non-Null Count   Dtype  \n",
            "---  ------             --------------   -----  \n",
            " 0   from               149484 non-null  object \n",
            " 1   to                 149484 non-null  object \n",
            " 2   flighttype         149484 non-null  object \n",
            " 3   price              149484 non-null  float64\n",
            " 4   time               149484 non-null  float64\n",
            " 5   distance           149484 non-null  float64\n",
            " 6   agency             149484 non-null  object \n",
            " 7   is_holiday_period  149484 non-null  int64  \n",
            " 8   month              149484 non-null  int32  \n",
            " 9   weekday            149484 non-null  int32  \n",
            " 10  weeknum            149484 non-null  UInt32 \n",
            " 11  is_weekend         149484 non-null  int32  \n",
            "dtypes: UInt32(1), float64(3), int32(3), int64(1), object(4)\n",
            "memory usage: 12.7+ MB\n"
          ]
        }
      ],
      "source": [
        "# Drop unnecessary columns and columns with very high percentage of nulls\n",
        "# Drop columns which are not useful because of high number of missing values or high number of categories\n",
        "drop_cols = ['date']\n",
        "df = df.drop(columns=drop_cols)\n",
        "df.info()\n"
      ]
    },
    {
      "cell_type": "code",
      "execution_count": 28,
      "metadata": {
        "colab": {
          "base_uri": "https://localhost:8080/"
        },
        "id": "4ffg1CuqjvqM",
        "outputId": "3c341f53-8b57-4033-d660-3a20d4a3e0bf"
      },
      "outputs": [
        {
          "name": "stdout",
          "output_type": "stream",
          "text": [
            "Count of duplicate rows : 47288\n",
            "Dropping duplicates\n"
          ]
        }
      ],
      "source": [
        "# check duplicates after removing date\n",
        "df = check_drop_duplications(df)"
      ]
    },
    {
      "cell_type": "code",
      "execution_count": 29,
      "metadata": {},
      "outputs": [
        {
          "name": "stdout",
          "output_type": "stream",
          "text": [
            "Count of duplicate rows : 101706\n",
            "Dropping duplicates\n",
            "DataFrame with unique combinations and averages saved to 'load_distance_time.csv'.\n"
          ]
        }
      ],
      "source": [
        "#Identify unique combinations and aggregate by average\n",
        "df_temp = check_drop_duplications(df[['from','to','flighttype','agency','time','distance']])\n",
        "\n",
        "df_temp = df.groupby(['from', 'to', 'flighttype', 'agency'], as_index=False).agg({\n",
        "    'time': 'mean',\n",
        "    'distance': 'mean'\n",
        "})\n",
        "\n",
        "# Step 1.3: Save df_temp to a CSV file\n",
        "df_temp.to_csv('load_distance_time.csv', index=False)\n",
        "print(\"DataFrame with unique combinations and averages saved to 'load_distance_time.csv'.\")"
      ]
    },
    {
      "cell_type": "markdown",
      "metadata": {
        "id": "HDbLt2J9IKY8"
      },
      "source": [
        "## ***5. Transformation on Train Data***"
      ]
    },
    {
      "cell_type": "code",
      "execution_count": 30,
      "metadata": {
        "id": "9ZHnt2BVQwa2"
      },
      "outputs": [],
      "source": [
        "# Separate features (X) and target variable (y)\n",
        "X = df.drop(columns=['price'])\n",
        "y = df['price']"
      ]
    },
    {
      "cell_type": "code",
      "execution_count": 31,
      "metadata": {
        "id": "3JU2MNYeFfGV"
      },
      "outputs": [],
      "source": [
        "# Split data into training and testing sets\n",
        "X_train, X_test, y_train, y_test = train_test_split(X, y, test_size=0.1, random_state=42)\n"
      ]
    },
    {
      "cell_type": "markdown",
      "metadata": {
        "id": "id1riN9m0vUs"
      },
      "source": [
        "### 1. Encoding"
      ]
    },
    {
      "cell_type": "code",
      "execution_count": 32,
      "metadata": {
        "colab": {
          "base_uri": "https://localhost:8080/"
        },
        "id": "a1fcTVCakHLj",
        "outputId": "70aa289a-eca5-4388-fc19-2628b3a4cdc3"
      },
      "outputs": [
        {
          "data": {
            "text/plain": [
              "Index(['from', 'to', 'flighttype', 'time', 'distance', 'agency',\n",
              "       'is_holiday_period', 'month', 'weekday', 'weeknum', 'is_weekend'],\n",
              "      dtype='object')"
            ]
          },
          "execution_count": 32,
          "metadata": {},
          "output_type": "execute_result"
        }
      ],
      "source": [
        "X_train.columns"
      ]
    },
    {
      "cell_type": "code",
      "execution_count": 33,
      "metadata": {
        "id": "8_K9iP7yIErx"
      },
      "outputs": [],
      "source": [
        "# Initialize the encoder\n",
        "encoder = OneHotEncoder(handle_unknown='ignore', sparse_output=False)\n",
        "\n",
        "# Columns to encode\n",
        "columns_for_one_hot_encoding = ['from', 'to', 'flighttype', 'agency']\n",
        "\n",
        "# Fit & transform encoder\n",
        "X_train_cat = encoder.fit_transform(X_train[columns_for_one_hot_encoding])\n",
        "\n",
        "# Save the fitted encoder\n",
        "with open('encoder.pkl', 'wb') as file:\n",
        "    pickle.dump(encoder, file)"
      ]
    },
    {
      "cell_type": "markdown",
      "metadata": {
        "id": "TNVZ9zx19K6k"
      },
      "source": [
        "### 2. Data Transformation"
      ]
    },
    {
      "cell_type": "code",
      "execution_count": 34,
      "metadata": {
        "collapsed": true,
        "id": "NxgQI6Ho_Yjq"
      },
      "outputs": [],
      "source": [
        "# Initialize the scaler\n",
        "scaler = MinMaxScaler()\n",
        "\n",
        "# Columns for scaling\n",
        "numerical_features = ['time', 'distance', 'is_holiday_period', 'month', 'weekday', 'weeknum', 'is_weekend']\n",
        "\n",
        "# Fit & transfrom scaler\n",
        "X_train_num = scaler.fit_transform(X_train[numerical_features])\n",
        "\n",
        "\n",
        "# Save the fitted encoder\n",
        "with open('scaler.pkl', 'wb') as file:\n",
        "    pickle.dump(scaler, file)\n"
      ]
    },
    {
      "cell_type": "markdown",
      "metadata": {
        "id": "w-rWR975dqjA"
      },
      "source": [
        "## ***6.Modelling & Evaluation***"
      ]
    },
    {
      "cell_type": "code",
      "execution_count": 35,
      "metadata": {
        "id": "Q7QvJOYSMCL9"
      },
      "outputs": [],
      "source": [
        "# Stack numerical and categorical features\n",
        "X_train = np.hstack((X_train_num, X_train_cat))"
      ]
    },
    {
      "cell_type": "code",
      "execution_count": 36,
      "metadata": {
        "id": "QMehUIxqLzr0"
      },
      "outputs": [],
      "source": [
        "# Split data into training and validation sets\n",
        "X_train, X_val, y_train, y_val = train_test_split(X_train, y_train, test_size=0.2, random_state=42)"
      ]
    },
    {
      "cell_type": "code",
      "execution_count": 38,
      "metadata": {
        "colab": {
          "base_uri": "https://localhost:8080/",
          "height": 143
        },
        "id": "TFOa2Y_--s3c",
        "outputId": "4f6f04ff-7486-4ee9-9eae-43ac6537fede"
      },
      "outputs": [
        {
          "data": {
            "text/html": [
              "<div>\n",
              "<style scoped>\n",
              "    .dataframe tbody tr th:only-of-type {\n",
              "        vertical-align: middle;\n",
              "    }\n",
              "\n",
              "    .dataframe tbody tr th {\n",
              "        vertical-align: top;\n",
              "    }\n",
              "\n",
              "    .dataframe thead th {\n",
              "        text-align: right;\n",
              "    }\n",
              "</style>\n",
              "<table border=\"1\" class=\"dataframe\">\n",
              "  <thead>\n",
              "    <tr style=\"text-align: right;\">\n",
              "      <th></th>\n",
              "      <th>Model</th>\n",
              "      <th>RMSE</th>\n",
              "      <th>R²</th>\n",
              "      <th>Adjusted R²</th>\n",
              "      <th>Explained Variance</th>\n",
              "      <th>Time Taken (s)</th>\n",
              "    </tr>\n",
              "  </thead>\n",
              "  <tbody>\n",
              "    <tr>\n",
              "      <th>0</th>\n",
              "      <td>Linear Regression</td>\n",
              "      <td>104.498855</td>\n",
              "      <td>0.914735</td>\n",
              "      <td>0.914591</td>\n",
              "      <td>0.914737</td>\n",
              "      <td>0.199556</td>\n",
              "    </tr>\n",
              "    <tr>\n",
              "      <th>1</th>\n",
              "      <td>Random Forest</td>\n",
              "      <td>0.647430</td>\n",
              "      <td>0.999997</td>\n",
              "      <td>0.999997</td>\n",
              "      <td>0.999997</td>\n",
              "      <td>23.001654</td>\n",
              "    </tr>\n",
              "    <tr>\n",
              "      <th>2</th>\n",
              "      <td>XGBoost</td>\n",
              "      <td>1.382327</td>\n",
              "      <td>0.999985</td>\n",
              "      <td>0.999985</td>\n",
              "      <td>0.999985</td>\n",
              "      <td>0.602520</td>\n",
              "    </tr>\n",
              "  </tbody>\n",
              "</table>\n",
              "</div>"
            ],
            "text/plain": [
              "               Model        RMSE        R²  Adjusted R²  Explained Variance  \\\n",
              "0  Linear Regression  104.498855  0.914735     0.914591            0.914737   \n",
              "1      Random Forest    0.647430  0.999997     0.999997            0.999997   \n",
              "2            XGBoost    1.382327  0.999985     0.999985            0.999985   \n",
              "\n",
              "   Time Taken (s)  \n",
              "0        0.199556  \n",
              "1       23.001654  \n",
              "2        0.602520  "
            ]
          },
          "execution_count": 38,
          "metadata": {},
          "output_type": "execute_result"
        }
      ],
      "source": [
        "# Define a function to calculate adjusted R²\n",
        "def adjusted_r2_score(r2, n, k):\n",
        "    return 1 - (1 - r2) * (n - 1) / (n - k - 1)\n",
        "\n",
        "# Function to train and evaluate a model\n",
        "def train_evaluate_model(model, X_train, y_train, X_test, y_test):\n",
        "    start_time = time.time()\n",
        "    model.fit(X_train, y_train)\n",
        "    y_pred = model.predict(X_test)\n",
        "    time_taken = time.time() - start_time\n",
        "\n",
        "    mse = mean_squared_error(y_test, y_pred)\n",
        "    rmse = np.sqrt(mse)\n",
        "    r2 = r2_score(y_test, y_pred)\n",
        "    adj_r2 = adjusted_r2_score(r2, X_test.shape[0], X_test.shape[1])\n",
        "    explained_variance = explained_variance_score(y_test, y_pred)\n",
        "\n",
        "    return rmse, r2, adj_r2, explained_variance, time_taken\n",
        "\n",
        "# Initialize a dictionary to store results\n",
        "results = {}\n",
        "\n",
        "# Train and evaluate Linear Regression model\n",
        "lr_model = LinearRegression()\n",
        "results['Linear Regression'] = train_evaluate_model(lr_model, X_train, y_train, X_val, y_val)\n",
        "\n",
        "# Train and evaluate Random Forest model\n",
        "rf_model = RandomForestRegressor(n_estimators=100, random_state=42)\n",
        "results['Random Forest'] = train_evaluate_model(rf_model, X_train, y_train, X_val, y_val)\n",
        "\n",
        "# Train and evaluate XGBoost model\n",
        "xgb_model = XGBRegressor()\n",
        "results['XGBoost'] = train_evaluate_model(xgb_model, X_train, y_train, X_val, y_val)\n",
        "\n",
        "# Convert results to a DataFrame\n",
        "results_df = pd.DataFrame(results, index=['RMSE', 'R²', 'Adjusted R²', 'Explained Variance', 'Time Taken (s)']).T\n",
        "results_df.reset_index(inplace=True)\n",
        "results_df.rename(columns={'index': 'Model'}, inplace=True)\n",
        "\n",
        "results_df\n"
      ]
    },
    {
      "cell_type": "code",
      "execution_count": 39,
      "metadata": {
        "colab": {
          "base_uri": "https://localhost:8080/",
          "height": 785
        },
        "id": "y5FkajaqD93o",
        "outputId": "5a7e7115-f626-40f9-dc4a-d6c934c91625"
      },
      "outputs": [
        {
          "data": {
            "image/png": "[encoded data removed]",
            "text/plain": [
              "<Figure size 1296x864 with 5 Axes>"
            ]
          },
          "metadata": {
            "needs_background": "light"
          },
          "output_type": "display_data"
        }
      ],
      "source": [
        "# Plot the results\n",
        "metrics = ['RMSE', 'R²', 'Adjusted R²', 'Explained Variance', 'Time Taken (s)']\n",
        "\n",
        "fig, axes = plt.subplots(nrows=2, ncols=3, figsize=(18, 12))\n",
        "\n",
        "for i, metric in enumerate(metrics):\n",
        "    row, col = divmod(i, 3)\n",
        "    axes[row, col].bar(results_df['Model'], results_df[metric], color=['blue', 'green', 'red'])\n",
        "    axes[row, col].set_title(metric)\n",
        "    axes[row, col].set_ylabel(metric)\n",
        "    axes[row, col].set_xlabel('Model')\n",
        "\n",
        "# Remove the unused subplot\n",
        "fig.delaxes(axes[1][2])\n",
        "\n",
        "plt.tight_layout()\n",
        "plt.show()\n"
      ]
    },
    {
      "cell_type": "markdown",
      "metadata": {
        "id": "wWuEymPioCf5"
      },
      "source": [
        "#### Comparing all three models from the metrics considered selecting XGBoost and continuning to hyperparameter tuning"
      ]
    },
    {
      "cell_type": "code",
      "execution_count": 40,
      "metadata": {
        "colab": {
          "base_uri": "https://localhost:8080/"
        },
        "id": "OfSmEzTGCFpE",
        "outputId": "8be34e16-f185-4915-affd-4bbdb603df62"
      },
      "outputs": [
        {
          "name": "stdout",
          "output_type": "stream",
          "text": [
            "Fitting 3 folds for each of 2 candidates, totalling 6 fits\n",
            "Best parameters found:  {'subsample': 0.9, 'n_estimators': 200, 'min_child_weight': 4, 'max_depth': 10, 'learning_rate': 0.05, 'gamma': 0.4, 'colsample_bytree': 1.0}\n",
            "RMSE: 0.24826880896324385\n",
            "R²: 0.9999995187254357\n",
            "Adjusted R²: 0.9999995179130031\n",
            "Explained Variance: 0.9999995187320317\n"
          ]
        }
      ],
      "source": [
        "# Define the parameter grid\n",
        "param_grid = {\n",
        "    'n_estimators': [100, 200, 300, 400, 500],\n",
        "    'max_depth': [3, 4, 5, 6, 7, 8, 9, 10],\n",
        "    'learning_rate': [0.01, 0.05, 0.1, 0.15, 0.2],\n",
        "    'subsample': [0.6, 0.7, 0.8, 0.9, 1.0],\n",
        "    'colsample_bytree': [0.6, 0.7, 0.8, 0.9, 1.0],\n",
        "    'gamma': [0, 0.1, 0.2, 0.3, 0.4],\n",
        "    'min_child_weight': [1, 2, 3, 4, 5]\n",
        "}\n",
        "\n",
        "# Initialize the XGBoost model\n",
        "xgb_model = XGBRegressor()\n",
        "\n",
        "# Initialize RandomizedSearchCV\n",
        "random_search = RandomizedSearchCV(\n",
        "        estimator=xgb_model,\n",
        "        param_distributions=param_grid,\n",
        "        n_iter=2,  # Number of parameter settings sampled\n",
        "        scoring='neg_mean_squared_error',\n",
        "        cv=3,\n",
        "        verbose=1,\n",
        "        random_state=42,\n",
        "        n_jobs=-1  # Use all available CPUs\n",
        "    )\n",
        "\n",
        "# Fit RandomizedSearchCV\n",
        "random_search.fit(X_train, y_train)\n",
        "\n",
        "# Get the best parameters\n",
        "best_params = random_search.best_params_\n",
        "print(\"Best parameters found: \", best_params)\n",
        "\n",
        "# Evaluate the best model\n",
        "best_xgb_model = random_search.best_estimator_\n",
        "y_pred = best_xgb_model.predict(X_val)\n",
        "\n",
        "mse = mean_squared_error(y_val, y_pred)\n",
        "rmse = np.sqrt(mse)\n",
        "r2 = r2_score(y_val, y_pred)\n",
        "adj_r2 = adjusted_r2_score(r2, X_val.shape[0], X_val.shape[1])\n",
        "explained_variance = explained_variance_score(y_val, y_pred)\n",
        "\n",
        "# Print evaluation metrics\n",
        "print(f\"RMSE: {rmse}\")\n",
        "print(f\"R²: {r2}\")\n",
        "print(f\"Adjusted R²: {adj_r2}\")\n",
        "print(f\"Explained Variance: {explained_variance}\")"
      ]
    },
    {
      "cell_type": "code",
      "execution_count": 41,
      "metadata": {
        "id": "3UIyULhrRyAL"
      },
      "outputs": [],
      "source": [
        "# Get the best model\n",
        "best_xgb_model = random_search.best_estimator_\n",
        "\n",
        "# Save the best model, encoder, and scaler\n",
        "with open('best_xgb_model.pkl', 'wb') as file:\n",
        "    pickle.dump(best_xgb_model, file)"
      ]
    },
    {
      "cell_type": "markdown",
      "metadata": {
        "id": "cW23w6HcUR-0"
      },
      "source": [
        "## ***7.Predictions on test data***"
      ]
    },
    {
      "cell_type": "code",
      "execution_count": 42,
      "metadata": {
        "id": "QSVCMGtzQvgr"
      },
      "outputs": [],
      "source": [
        "import pandas as pd\n",
        "from sklearn.preprocessing import OneHotEncoder, StandardScaler\n",
        "\n",
        "# load this cell in predict.py\n",
        "\n",
        "def preprocess(input_data):\n",
        "  if 'date' in input_data.columns:\n",
        "      # Ensure date is in datetime format\n",
        "      input_data['date'] = pd.to_datetime(input_data['date'])\n",
        "\n",
        "      # Calculate date related parameters\n",
        "      input_data['month'] = input_data['date'].dt.month\n",
        "      input_data['weekday'] = input_data['date'].dt.weekday\n",
        "      input_data['weeknum'] = input_data['date'].dt.isocalendar().week\n",
        "      input_data['is_weekend'] = input_data['weekday'].isin([5, 6]).astype(int)\n",
        "      input_data['is_holiday_period'] = input_data['date'].apply(is_holiday).astype(int)\n",
        "  return input_data\n",
        "\n",
        "def predict(input_data):\n",
        "  # Preprocess and create features for test\n",
        "  input_data = preprocess(input_data)\n",
        "\n",
        "  # Load the encoder and scaler for use on new data\n",
        "  with open('encoder.pkl', 'rb') as file:\n",
        "      loaded_encoder = pickle.load(file)\n",
        "\n",
        "  with open('scaler.pkl', 'rb') as file:\n",
        "      loaded_scaler = pickle.load(file)\n",
        "\n",
        "  # Separate categorical and numerical features\n",
        "  columns_for_one_hot_encoding = ['from', 'to', 'flighttype', 'agency']\n",
        "  numerical_features = ['time', 'distance', 'is_holiday_period', 'month', 'weekday', 'weeknum', 'is_weekend']\n",
        "\n",
        "  # Transform new data using the loaded encoder and scaler\n",
        "  input_data_cat = loaded_encoder.transform(input_data[columns_for_one_hot_encoding])\n",
        "  input_data_num = loaded_scaler.transform(input_data[numerical_features])\n",
        "\n",
        "  input_data = np.hstack((input_data_num, input_data_cat))\n",
        "\n",
        "  with open('best_xgb_model.pkl', 'rb') as file:\n",
        "    loaded_model = pickle.load(file)\n",
        "\n",
        "  y_pred = loaded_model.predict(input_data)\n",
        "\n",
        "  return y_pred"
      ]
    },
    {
      "cell_type": "code",
      "execution_count": 43,
      "metadata": {
        "colab": {
          "base_uri": "https://localhost:8080/"
        },
        "collapsed": true,
        "id": "siwx15WWpCXI",
        "outputId": "193e6f31-78c0-4033-ee7a-2ea8001855f4"
      },
      "outputs": [
        {
          "name": "stdout",
          "output_type": "stream",
          "text": [
            "RMSE: 0.2461748926097136\n",
            "R²: 0.9999995261132418\n",
            "Adjusted R²: 0.999999525602588\n",
            "Explained Variance: 0.9999995261755651\n"
          ]
        }
      ],
      "source": [
        "# Predicting and Evaluating on Test set\n",
        "\n",
        "y_pred = predict(X_test)\n",
        "\n",
        "mse = mean_squared_error(y_test, y_pred)\n",
        "rmse = np.sqrt(mse)\n",
        "r2 = r2_score(y_test, y_pred)\n",
        "adj_r2 = adjusted_r2_score(r2, X_test.shape[0], X_test.shape[1])\n",
        "explained_variance = explained_variance_score(y_test, y_pred)\n",
        "\n",
        "# Print evaluation metrics\n",
        "print(f\"RMSE: {rmse}\")\n",
        "print(f\"R²: {r2}\")\n",
        "print(f\"Adjusted R²: {adj_r2}\")\n",
        "print(f\"Explained Variance: {explained_variance}\")"
      ]
    },
    {
      "cell_type": "code",
      "execution_count": null,
      "metadata": {},
      "outputs": [],
      "source": [
        "!pip freeze > requirements.txt"
      ]
    },
    {
      "cell_type": "markdown",
      "metadata": {
        "id": "gCX9965dhzqZ"
      },
      "source": [
        "# **Conclusion**"
      ]
    }
  ],
  "metadata": {
    "colab": {
      "collapsed_sections": [
        "rKaaJyKJ5dUD"
      ],
      "include_colab_link": true,
      "provenance": []
    },
    "kernelspec": {
      "display_name": "Python 3",
      "name": "python3"
    },
    "language_info": {
      "codemirror_mode": {
        "name": "ipython",
        "version": 3
      },
      "file_extension": ".py",
      "mimetype": "text/x-python",
      "name": "python",
      "nbconvert_exporter": "python",
      "pygments_lexer": "ipython3",
      "version": "3.10.12"
    }
  },
  "nbformat": 4,
  "nbformat_minor": 0
}
