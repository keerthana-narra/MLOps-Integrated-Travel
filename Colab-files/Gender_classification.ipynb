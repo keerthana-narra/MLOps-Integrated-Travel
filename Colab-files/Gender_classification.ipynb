{
  "nbformat": 4,
  "nbformat_minor": 0,
  "metadata": {
    "colab": {
      "provenance": [],
      "collapsed_sections": [
        "rKaaJyKJ5dUD"
      ],
      "include_colab_link": true
    },
    "kernelspec": {
      "name": "python3",
      "display_name": "Python 3"
    },
    "language_info": {
      "name": "python"
    }
  },
  "cells": [
    {
      "cell_type": "markdown",
      "metadata": {
        "id": "view-in-github",
        "colab_type": "text"
      },
      "source": [
        "<a href=\"https://colab.research.google.com/github/keerthana-narra/MLOps-Integrated-Travel/blob/main/Colab-files/Gender_classification.ipynb\" target=\"_parent\"><img src=\"https://colab.research.google.com/assets/colab-badge.svg\" alt=\"Open In Colab\"/></a>"
      ]
    },
    {
      "cell_type": "markdown",
      "source": [
        "# **Gender classification**\n",
        "\n"
      ],
      "metadata": {
        "id": "ILM16xV1PD8m"
      }
    },
    {
      "cell_type": "markdown",
      "source": [
        "##### **Project Type**    - Machine Learning\n",
        "##### **Contribution**    -\n"
      ],
      "metadata": {
        "id": "bqVZBxrvPD8n"
      }
    },
    {
      "cell_type": "markdown",
      "source": [
        "Github link :"
      ],
      "metadata": {
        "id": "OQBIQOjeO5eC"
      }
    },
    {
      "cell_type": "markdown",
      "source": [
        "Project Documentation : [Documentation link]"
      ],
      "metadata": {
        "id": "o5Fh4-5QjziR"
      }
    },
    {
      "cell_type": "markdown",
      "source": [
        "Presentation : [Video link]"
      ],
      "metadata": {
        "id": "EbzKaGcJO0b9"
      }
    },
    {
      "cell_type": "code",
      "source": [],
      "metadata": {
        "id": "4gxB8cIVUWvJ"
      },
      "execution_count": null,
      "outputs": []
    },
    {
      "cell_type": "markdown",
      "source": [
        "# **Problem Statement and Objective**\n"
      ],
      "metadata": {
        "id": "yQaldy8SH6Dl"
      }
    },
    {
      "cell_type": "markdown",
      "source": [
        "**Problem Overview**\n",
        "\n"
      ],
      "metadata": {
        "id": "jivUA-ONOwse"
      }
    },
    {
      "cell_type": "markdown",
      "source": [
        "**Objective:**\n"
      ],
      "metadata": {
        "id": "bmr4zSC6BYa0"
      }
    },
    {
      "cell_type": "markdown",
      "source": [
        "# ***Let's Begin !***"
      ],
      "metadata": {
        "id": "O_i_v8NEhb9l"
      }
    },
    {
      "cell_type": "markdown",
      "source": [
        "## ***1. Know Your Data***"
      ],
      "metadata": {
        "id": "HhfV-JJviCcP"
      }
    },
    {
      "cell_type": "markdown",
      "source": [
        "Before we diving into the project, our initial step is to familiarize ourselves with the dataset. Let's load the data and take a look."
      ],
      "metadata": {
        "id": "okemS-mzEBS0"
      }
    },
    {
      "cell_type": "markdown",
      "source": [
        "### Import Libraries"
      ],
      "metadata": {
        "id": "Y3lxredqlCYt"
      }
    },
    {
      "cell_type": "code",
      "source": [
        "#!pip install gender_guesser"
      ],
      "metadata": {
        "id": "b2lfuogeBZal"
      },
      "execution_count": 1,
      "outputs": []
    },
    {
      "cell_type": "code",
      "source": [
        "# Import Libraries\n",
        "import numpy as np\n",
        "import pandas as pd\n",
        "\n",
        "import matplotlib.pyplot as plt\n",
        "import seaborn as sns\n",
        "import gender_guesser.detector as gender\n",
        "\n",
        "from sklearn import preprocessing\n",
        "from sklearn.feature_extraction.text import CountVectorizer\n",
        "from sklearn.preprocessing import StandardScaler, MinMaxScaler, OneHotEncoder\n",
        "from sklearn.model_selection import train_test_split\n",
        "from sklearn.linear_model import LogisticRegression\n",
        "from sklearn.ensemble import RandomForestClassifier\n",
        "from xgboost import XGBClassifier\n",
        "from sklearn.metrics import accuracy_score, precision_score, recall_score, f1_score, roc_auc_score, classification_report\n",
        "from sklearn.model_selection import train_test_split\n",
        "\n",
        "import time\n",
        "\n",
        "\n",
        "import warnings\n",
        "warnings.filterwarnings('ignore')"
      ],
      "metadata": {
        "id": "M8Vqi-pPk-HR"
      },
      "execution_count": 2,
      "outputs": []
    },
    {
      "cell_type": "markdown",
      "source": [
        "### Dataset Loading"
      ],
      "metadata": {
        "id": "3RnN4peoiCZX"
      }
    },
    {
      "cell_type": "code",
      "source": [
        "#Mount drive\n",
        "from google.colab import drive\n",
        "drive.mount('/content/drive')"
      ],
      "metadata": {
        "id": "4CkvbW_SlZ_R",
        "colab": {
          "base_uri": "https://localhost:8080/"
        },
        "outputId": "f521a68d-6d5b-45c5-8d8e-afce75de1ebb"
      },
      "execution_count": 3,
      "outputs": [
        {
          "output_type": "stream",
          "name": "stdout",
          "text": [
            "Drive already mounted at /content/drive; to attempt to forcibly remount, call drive.mount(\"/content/drive\", force_remount=True).\n"
          ]
        }
      ]
    },
    {
      "cell_type": "code",
      "source": [
        "#Load the dataset\n",
        "df=pd.read_csv('/content/drive/MyDrive/Almabetter/Masters/Specilization/Module1/Capstone/users.csv',na_values=['none', 'None'])"
      ],
      "metadata": {
        "id": "061ZcGlzwd5y"
      },
      "execution_count": 4,
      "outputs": []
    },
    {
      "cell_type": "code",
      "source": [
        "# Change column names to lowercase with underscores instead of spaces\n",
        "df.columns = df.columns.str.lower().str.replace(' ', '_')"
      ],
      "metadata": {
        "id": "OPPbIbDGXOfO"
      },
      "execution_count": 5,
      "outputs": []
    },
    {
      "cell_type": "markdown",
      "source": [
        "### Peek into data 👀"
      ],
      "metadata": {
        "id": "x71ZqKXriCWQ"
      }
    },
    {
      "cell_type": "code",
      "source": [
        "#First 5 rows\n",
        "df.head(2)"
      ],
      "metadata": {
        "id": "LWNFOSvLl09H",
        "colab": {
          "base_uri": "https://localhost:8080/",
          "height": 0
        },
        "outputId": "1795f83b-aee8-4481-b5bc-b1f255437f39"
      },
      "execution_count": 6,
      "outputs": [
        {
          "output_type": "execute_result",
          "data": {
            "text/plain": [
              "   code company            name gender  age\n",
              "0     0    4You       Roy Braun   male   21\n",
              "1     1    4You  Joseph Holsten   male   37"
            ],
            "text/html": [
              "\n",
              "  <div id=\"df-f11a316a-5b98-4c01-b0d5-731bd0fc3175\" class=\"colab-df-container\">\n",
              "    <div>\n",
              "<style scoped>\n",
              "    .dataframe tbody tr th:only-of-type {\n",
              "        vertical-align: middle;\n",
              "    }\n",
              "\n",
              "    .dataframe tbody tr th {\n",
              "        vertical-align: top;\n",
              "    }\n",
              "\n",
              "    .dataframe thead th {\n",
              "        text-align: right;\n",
              "    }\n",
              "</style>\n",
              "<table border=\"1\" class=\"dataframe\">\n",
              "  <thead>\n",
              "    <tr style=\"text-align: right;\">\n",
              "      <th></th>\n",
              "      <th>code</th>\n",
              "      <th>company</th>\n",
              "      <th>name</th>\n",
              "      <th>gender</th>\n",
              "      <th>age</th>\n",
              "    </tr>\n",
              "  </thead>\n",
              "  <tbody>\n",
              "    <tr>\n",
              "      <th>0</th>\n",
              "      <td>0</td>\n",
              "      <td>4You</td>\n",
              "      <td>Roy Braun</td>\n",
              "      <td>male</td>\n",
              "      <td>21</td>\n",
              "    </tr>\n",
              "    <tr>\n",
              "      <th>1</th>\n",
              "      <td>1</td>\n",
              "      <td>4You</td>\n",
              "      <td>Joseph Holsten</td>\n",
              "      <td>male</td>\n",
              "      <td>37</td>\n",
              "    </tr>\n",
              "  </tbody>\n",
              "</table>\n",
              "</div>\n",
              "    <div class=\"colab-df-buttons\">\n",
              "\n",
              "  <div class=\"colab-df-container\">\n",
              "    <button class=\"colab-df-convert\" onclick=\"convertToInteractive('df-f11a316a-5b98-4c01-b0d5-731bd0fc3175')\"\n",
              "            title=\"Convert this dataframe to an interactive table.\"\n",
              "            style=\"display:none;\">\n",
              "\n",
              "  <svg xmlns=\"http://www.w3.org/2000/svg\" height=\"24px\" viewBox=\"0 -960 960 960\">\n",
              "    <path d=\"M120-120v-720h720v720H120Zm60-500h600v-160H180v160Zm220 220h160v-160H400v160Zm0 220h160v-160H400v160ZM180-400h160v-160H180v160Zm440 0h160v-160H620v160ZM180-180h160v-160H180v160Zm440 0h160v-160H620v160Z\"/>\n",
              "  </svg>\n",
              "    </button>\n",
              "\n",
              "  <style>\n",
              "    .colab-df-container {\n",
              "      display:flex;\n",
              "      gap: 12px;\n",
              "    }\n",
              "\n",
              "    .colab-df-convert {\n",
              "      background-color: #E8F0FE;\n",
              "      border: none;\n",
              "      border-radius: 50%;\n",
              "      cursor: pointer;\n",
              "      display: none;\n",
              "      fill: #1967D2;\n",
              "      height: 32px;\n",
              "      padding: 0 0 0 0;\n",
              "      width: 32px;\n",
              "    }\n",
              "\n",
              "    .colab-df-convert:hover {\n",
              "      background-color: #E2EBFA;\n",
              "      box-shadow: 0px 1px 2px rgba(60, 64, 67, 0.3), 0px 1px 3px 1px rgba(60, 64, 67, 0.15);\n",
              "      fill: #174EA6;\n",
              "    }\n",
              "\n",
              "    .colab-df-buttons div {\n",
              "      margin-bottom: 4px;\n",
              "    }\n",
              "\n",
              "    [theme=dark] .colab-df-convert {\n",
              "      background-color: #3B4455;\n",
              "      fill: #D2E3FC;\n",
              "    }\n",
              "\n",
              "    [theme=dark] .colab-df-convert:hover {\n",
              "      background-color: #434B5C;\n",
              "      box-shadow: 0px 1px 3px 1px rgba(0, 0, 0, 0.15);\n",
              "      filter: drop-shadow(0px 1px 2px rgba(0, 0, 0, 0.3));\n",
              "      fill: #FFFFFF;\n",
              "    }\n",
              "  </style>\n",
              "\n",
              "    <script>\n",
              "      const buttonEl =\n",
              "        document.querySelector('#df-f11a316a-5b98-4c01-b0d5-731bd0fc3175 button.colab-df-convert');\n",
              "      buttonEl.style.display =\n",
              "        google.colab.kernel.accessAllowed ? 'block' : 'none';\n",
              "\n",
              "      async function convertToInteractive(key) {\n",
              "        const element = document.querySelector('#df-f11a316a-5b98-4c01-b0d5-731bd0fc3175');\n",
              "        const dataTable =\n",
              "          await google.colab.kernel.invokeFunction('convertToInteractive',\n",
              "                                                    [key], {});\n",
              "        if (!dataTable) return;\n",
              "\n",
              "        const docLinkHtml = 'Like what you see? Visit the ' +\n",
              "          '<a target=\"_blank\" href=https://colab.research.google.com/notebooks/data_table.ipynb>data table notebook</a>'\n",
              "          + ' to learn more about interactive tables.';\n",
              "        element.innerHTML = '';\n",
              "        dataTable['output_type'] = 'display_data';\n",
              "        await google.colab.output.renderOutput(dataTable, element);\n",
              "        const docLink = document.createElement('div');\n",
              "        docLink.innerHTML = docLinkHtml;\n",
              "        element.appendChild(docLink);\n",
              "      }\n",
              "    </script>\n",
              "  </div>\n",
              "\n",
              "\n",
              "<div id=\"df-e0a2b19f-c312-49ff-851d-5784e3451adf\">\n",
              "  <button class=\"colab-df-quickchart\" onclick=\"quickchart('df-e0a2b19f-c312-49ff-851d-5784e3451adf')\"\n",
              "            title=\"Suggest charts\"\n",
              "            style=\"display:none;\">\n",
              "\n",
              "<svg xmlns=\"http://www.w3.org/2000/svg\" height=\"24px\"viewBox=\"0 0 24 24\"\n",
              "     width=\"24px\">\n",
              "    <g>\n",
              "        <path d=\"M19 3H5c-1.1 0-2 .9-2 2v14c0 1.1.9 2 2 2h14c1.1 0 2-.9 2-2V5c0-1.1-.9-2-2-2zM9 17H7v-7h2v7zm4 0h-2V7h2v10zm4 0h-2v-4h2v4z\"/>\n",
              "    </g>\n",
              "</svg>\n",
              "  </button>\n",
              "\n",
              "<style>\n",
              "  .colab-df-quickchart {\n",
              "      --bg-color: #E8F0FE;\n",
              "      --fill-color: #1967D2;\n",
              "      --hover-bg-color: #E2EBFA;\n",
              "      --hover-fill-color: #174EA6;\n",
              "      --disabled-fill-color: #AAA;\n",
              "      --disabled-bg-color: #DDD;\n",
              "  }\n",
              "\n",
              "  [theme=dark] .colab-df-quickchart {\n",
              "      --bg-color: #3B4455;\n",
              "      --fill-color: #D2E3FC;\n",
              "      --hover-bg-color: #434B5C;\n",
              "      --hover-fill-color: #FFFFFF;\n",
              "      --disabled-bg-color: #3B4455;\n",
              "      --disabled-fill-color: #666;\n",
              "  }\n",
              "\n",
              "  .colab-df-quickchart {\n",
              "    background-color: var(--bg-color);\n",
              "    border: none;\n",
              "    border-radius: 50%;\n",
              "    cursor: pointer;\n",
              "    display: none;\n",
              "    fill: var(--fill-color);\n",
              "    height: 32px;\n",
              "    padding: 0;\n",
              "    width: 32px;\n",
              "  }\n",
              "\n",
              "  .colab-df-quickchart:hover {\n",
              "    background-color: var(--hover-bg-color);\n",
              "    box-shadow: 0 1px 2px rgba(60, 64, 67, 0.3), 0 1px 3px 1px rgba(60, 64, 67, 0.15);\n",
              "    fill: var(--button-hover-fill-color);\n",
              "  }\n",
              "\n",
              "  .colab-df-quickchart-complete:disabled,\n",
              "  .colab-df-quickchart-complete:disabled:hover {\n",
              "    background-color: var(--disabled-bg-color);\n",
              "    fill: var(--disabled-fill-color);\n",
              "    box-shadow: none;\n",
              "  }\n",
              "\n",
              "  .colab-df-spinner {\n",
              "    border: 2px solid var(--fill-color);\n",
              "    border-color: transparent;\n",
              "    border-bottom-color: var(--fill-color);\n",
              "    animation:\n",
              "      spin 1s steps(1) infinite;\n",
              "  }\n",
              "\n",
              "  @keyframes spin {\n",
              "    0% {\n",
              "      border-color: transparent;\n",
              "      border-bottom-color: var(--fill-color);\n",
              "      border-left-color: var(--fill-color);\n",
              "    }\n",
              "    20% {\n",
              "      border-color: transparent;\n",
              "      border-left-color: var(--fill-color);\n",
              "      border-top-color: var(--fill-color);\n",
              "    }\n",
              "    30% {\n",
              "      border-color: transparent;\n",
              "      border-left-color: var(--fill-color);\n",
              "      border-top-color: var(--fill-color);\n",
              "      border-right-color: var(--fill-color);\n",
              "    }\n",
              "    40% {\n",
              "      border-color: transparent;\n",
              "      border-right-color: var(--fill-color);\n",
              "      border-top-color: var(--fill-color);\n",
              "    }\n",
              "    60% {\n",
              "      border-color: transparent;\n",
              "      border-right-color: var(--fill-color);\n",
              "    }\n",
              "    80% {\n",
              "      border-color: transparent;\n",
              "      border-right-color: var(--fill-color);\n",
              "      border-bottom-color: var(--fill-color);\n",
              "    }\n",
              "    90% {\n",
              "      border-color: transparent;\n",
              "      border-bottom-color: var(--fill-color);\n",
              "    }\n",
              "  }\n",
              "</style>\n",
              "\n",
              "  <script>\n",
              "    async function quickchart(key) {\n",
              "      const quickchartButtonEl =\n",
              "        document.querySelector('#' + key + ' button');\n",
              "      quickchartButtonEl.disabled = true;  // To prevent multiple clicks.\n",
              "      quickchartButtonEl.classList.add('colab-df-spinner');\n",
              "      try {\n",
              "        const charts = await google.colab.kernel.invokeFunction(\n",
              "            'suggestCharts', [key], {});\n",
              "      } catch (error) {\n",
              "        console.error('Error during call to suggestCharts:', error);\n",
              "      }\n",
              "      quickchartButtonEl.classList.remove('colab-df-spinner');\n",
              "      quickchartButtonEl.classList.add('colab-df-quickchart-complete');\n",
              "    }\n",
              "    (() => {\n",
              "      let quickchartButtonEl =\n",
              "        document.querySelector('#df-e0a2b19f-c312-49ff-851d-5784e3451adf button');\n",
              "      quickchartButtonEl.style.display =\n",
              "        google.colab.kernel.accessAllowed ? 'block' : 'none';\n",
              "    })();\n",
              "  </script>\n",
              "</div>\n",
              "\n",
              "    </div>\n",
              "  </div>\n"
            ],
            "application/vnd.google.colaboratory.intrinsic+json": {
              "type": "dataframe",
              "variable_name": "df",
              "summary": "{\n  \"name\": \"df\",\n  \"rows\": 1340,\n  \"fields\": [\n    {\n      \"column\": \"code\",\n      \"properties\": {\n        \"dtype\": \"number\",\n        \"std\": 386,\n        \"min\": 0,\n        \"max\": 1339,\n        \"num_unique_values\": 1340,\n        \"samples\": [\n          394,\n          881,\n          358\n        ],\n        \"semantic_type\": \"\",\n        \"description\": \"\"\n      }\n    },\n    {\n      \"column\": \"company\",\n      \"properties\": {\n        \"dtype\": \"category\",\n        \"num_unique_values\": 5,\n        \"samples\": [\n          \"Monsters CYA\",\n          \"Umbrella LTDA\",\n          \"Wonka Company\"\n        ],\n        \"semantic_type\": \"\",\n        \"description\": \"\"\n      }\n    },\n    {\n      \"column\": \"name\",\n      \"properties\": {\n        \"dtype\": \"string\",\n        \"num_unique_values\": 1338,\n        \"samples\": [\n          \"Nancy Fanno\",\n          \"James Ayala\",\n          \"Carolyn Caldwell\"\n        ],\n        \"semantic_type\": \"\",\n        \"description\": \"\"\n      }\n    },\n    {\n      \"column\": \"gender\",\n      \"properties\": {\n        \"dtype\": \"category\",\n        \"num_unique_values\": 2,\n        \"samples\": [\n          \"female\",\n          \"male\"\n        ],\n        \"semantic_type\": \"\",\n        \"description\": \"\"\n      }\n    },\n    {\n      \"column\": \"age\",\n      \"properties\": {\n        \"dtype\": \"number\",\n        \"std\": 12,\n        \"min\": 21,\n        \"max\": 65,\n        \"num_unique_values\": 45,\n        \"samples\": [\n          43,\n          42\n        ],\n        \"semantic_type\": \"\",\n        \"description\": \"\"\n      }\n    }\n  ]\n}"
            }
          },
          "metadata": {},
          "execution_count": 6
        }
      ]
    },
    {
      "cell_type": "code",
      "source": [
        "#Last 5 rows\n",
        "df.tail(2)"
      ],
      "metadata": {
        "id": "FsD4L_hZxwPJ",
        "colab": {
          "base_uri": "https://localhost:8080/",
          "height": 0
        },
        "outputId": "34e509f1-15ff-4d5a-b679-e350765b097d"
      },
      "execution_count": 7,
      "outputs": [
        {
          "output_type": "execute_result",
          "data": {
            "text/plain": [
              "      code        company            name  gender  age\n",
              "1338  1338  Umbrella LTDA    Viola Agosta  female   52\n",
              "1339  1339  Umbrella LTDA  Paul Rodriguez    male   35"
            ],
            "text/html": [
              "\n",
              "  <div id=\"df-575ee7f3-da51-417d-87fc-f933860a3962\" class=\"colab-df-container\">\n",
              "    <div>\n",
              "<style scoped>\n",
              "    .dataframe tbody tr th:only-of-type {\n",
              "        vertical-align: middle;\n",
              "    }\n",
              "\n",
              "    .dataframe tbody tr th {\n",
              "        vertical-align: top;\n",
              "    }\n",
              "\n",
              "    .dataframe thead th {\n",
              "        text-align: right;\n",
              "    }\n",
              "</style>\n",
              "<table border=\"1\" class=\"dataframe\">\n",
              "  <thead>\n",
              "    <tr style=\"text-align: right;\">\n",
              "      <th></th>\n",
              "      <th>code</th>\n",
              "      <th>company</th>\n",
              "      <th>name</th>\n",
              "      <th>gender</th>\n",
              "      <th>age</th>\n",
              "    </tr>\n",
              "  </thead>\n",
              "  <tbody>\n",
              "    <tr>\n",
              "      <th>1338</th>\n",
              "      <td>1338</td>\n",
              "      <td>Umbrella LTDA</td>\n",
              "      <td>Viola Agosta</td>\n",
              "      <td>female</td>\n",
              "      <td>52</td>\n",
              "    </tr>\n",
              "    <tr>\n",
              "      <th>1339</th>\n",
              "      <td>1339</td>\n",
              "      <td>Umbrella LTDA</td>\n",
              "      <td>Paul Rodriguez</td>\n",
              "      <td>male</td>\n",
              "      <td>35</td>\n",
              "    </tr>\n",
              "  </tbody>\n",
              "</table>\n",
              "</div>\n",
              "    <div class=\"colab-df-buttons\">\n",
              "\n",
              "  <div class=\"colab-df-container\">\n",
              "    <button class=\"colab-df-convert\" onclick=\"convertToInteractive('df-575ee7f3-da51-417d-87fc-f933860a3962')\"\n",
              "            title=\"Convert this dataframe to an interactive table.\"\n",
              "            style=\"display:none;\">\n",
              "\n",
              "  <svg xmlns=\"http://www.w3.org/2000/svg\" height=\"24px\" viewBox=\"0 -960 960 960\">\n",
              "    <path d=\"M120-120v-720h720v720H120Zm60-500h600v-160H180v160Zm220 220h160v-160H400v160Zm0 220h160v-160H400v160ZM180-400h160v-160H180v160Zm440 0h160v-160H620v160ZM180-180h160v-160H180v160Zm440 0h160v-160H620v160Z\"/>\n",
              "  </svg>\n",
              "    </button>\n",
              "\n",
              "  <style>\n",
              "    .colab-df-container {\n",
              "      display:flex;\n",
              "      gap: 12px;\n",
              "    }\n",
              "\n",
              "    .colab-df-convert {\n",
              "      background-color: #E8F0FE;\n",
              "      border: none;\n",
              "      border-radius: 50%;\n",
              "      cursor: pointer;\n",
              "      display: none;\n",
              "      fill: #1967D2;\n",
              "      height: 32px;\n",
              "      padding: 0 0 0 0;\n",
              "      width: 32px;\n",
              "    }\n",
              "\n",
              "    .colab-df-convert:hover {\n",
              "      background-color: #E2EBFA;\n",
              "      box-shadow: 0px 1px 2px rgba(60, 64, 67, 0.3), 0px 1px 3px 1px rgba(60, 64, 67, 0.15);\n",
              "      fill: #174EA6;\n",
              "    }\n",
              "\n",
              "    .colab-df-buttons div {\n",
              "      margin-bottom: 4px;\n",
              "    }\n",
              "\n",
              "    [theme=dark] .colab-df-convert {\n",
              "      background-color: #3B4455;\n",
              "      fill: #D2E3FC;\n",
              "    }\n",
              "\n",
              "    [theme=dark] .colab-df-convert:hover {\n",
              "      background-color: #434B5C;\n",
              "      box-shadow: 0px 1px 3px 1px rgba(0, 0, 0, 0.15);\n",
              "      filter: drop-shadow(0px 1px 2px rgba(0, 0, 0, 0.3));\n",
              "      fill: #FFFFFF;\n",
              "    }\n",
              "  </style>\n",
              "\n",
              "    <script>\n",
              "      const buttonEl =\n",
              "        document.querySelector('#df-575ee7f3-da51-417d-87fc-f933860a3962 button.colab-df-convert');\n",
              "      buttonEl.style.display =\n",
              "        google.colab.kernel.accessAllowed ? 'block' : 'none';\n",
              "\n",
              "      async function convertToInteractive(key) {\n",
              "        const element = document.querySelector('#df-575ee7f3-da51-417d-87fc-f933860a3962');\n",
              "        const dataTable =\n",
              "          await google.colab.kernel.invokeFunction('convertToInteractive',\n",
              "                                                    [key], {});\n",
              "        if (!dataTable) return;\n",
              "\n",
              "        const docLinkHtml = 'Like what you see? Visit the ' +\n",
              "          '<a target=\"_blank\" href=https://colab.research.google.com/notebooks/data_table.ipynb>data table notebook</a>'\n",
              "          + ' to learn more about interactive tables.';\n",
              "        element.innerHTML = '';\n",
              "        dataTable['output_type'] = 'display_data';\n",
              "        await google.colab.output.renderOutput(dataTable, element);\n",
              "        const docLink = document.createElement('div');\n",
              "        docLink.innerHTML = docLinkHtml;\n",
              "        element.appendChild(docLink);\n",
              "      }\n",
              "    </script>\n",
              "  </div>\n",
              "\n",
              "\n",
              "<div id=\"df-b31e8d6e-f97e-4ea6-9407-d5441bc3f77e\">\n",
              "  <button class=\"colab-df-quickchart\" onclick=\"quickchart('df-b31e8d6e-f97e-4ea6-9407-d5441bc3f77e')\"\n",
              "            title=\"Suggest charts\"\n",
              "            style=\"display:none;\">\n",
              "\n",
              "<svg xmlns=\"http://www.w3.org/2000/svg\" height=\"24px\"viewBox=\"0 0 24 24\"\n",
              "     width=\"24px\">\n",
              "    <g>\n",
              "        <path d=\"M19 3H5c-1.1 0-2 .9-2 2v14c0 1.1.9 2 2 2h14c1.1 0 2-.9 2-2V5c0-1.1-.9-2-2-2zM9 17H7v-7h2v7zm4 0h-2V7h2v10zm4 0h-2v-4h2v4z\"/>\n",
              "    </g>\n",
              "</svg>\n",
              "  </button>\n",
              "\n",
              "<style>\n",
              "  .colab-df-quickchart {\n",
              "      --bg-color: #E8F0FE;\n",
              "      --fill-color: #1967D2;\n",
              "      --hover-bg-color: #E2EBFA;\n",
              "      --hover-fill-color: #174EA6;\n",
              "      --disabled-fill-color: #AAA;\n",
              "      --disabled-bg-color: #DDD;\n",
              "  }\n",
              "\n",
              "  [theme=dark] .colab-df-quickchart {\n",
              "      --bg-color: #3B4455;\n",
              "      --fill-color: #D2E3FC;\n",
              "      --hover-bg-color: #434B5C;\n",
              "      --hover-fill-color: #FFFFFF;\n",
              "      --disabled-bg-color: #3B4455;\n",
              "      --disabled-fill-color: #666;\n",
              "  }\n",
              "\n",
              "  .colab-df-quickchart {\n",
              "    background-color: var(--bg-color);\n",
              "    border: none;\n",
              "    border-radius: 50%;\n",
              "    cursor: pointer;\n",
              "    display: none;\n",
              "    fill: var(--fill-color);\n",
              "    height: 32px;\n",
              "    padding: 0;\n",
              "    width: 32px;\n",
              "  }\n",
              "\n",
              "  .colab-df-quickchart:hover {\n",
              "    background-color: var(--hover-bg-color);\n",
              "    box-shadow: 0 1px 2px rgba(60, 64, 67, 0.3), 0 1px 3px 1px rgba(60, 64, 67, 0.15);\n",
              "    fill: var(--button-hover-fill-color);\n",
              "  }\n",
              "\n",
              "  .colab-df-quickchart-complete:disabled,\n",
              "  .colab-df-quickchart-complete:disabled:hover {\n",
              "    background-color: var(--disabled-bg-color);\n",
              "    fill: var(--disabled-fill-color);\n",
              "    box-shadow: none;\n",
              "  }\n",
              "\n",
              "  .colab-df-spinner {\n",
              "    border: 2px solid var(--fill-color);\n",
              "    border-color: transparent;\n",
              "    border-bottom-color: var(--fill-color);\n",
              "    animation:\n",
              "      spin 1s steps(1) infinite;\n",
              "  }\n",
              "\n",
              "  @keyframes spin {\n",
              "    0% {\n",
              "      border-color: transparent;\n",
              "      border-bottom-color: var(--fill-color);\n",
              "      border-left-color: var(--fill-color);\n",
              "    }\n",
              "    20% {\n",
              "      border-color: transparent;\n",
              "      border-left-color: var(--fill-color);\n",
              "      border-top-color: var(--fill-color);\n",
              "    }\n",
              "    30% {\n",
              "      border-color: transparent;\n",
              "      border-left-color: var(--fill-color);\n",
              "      border-top-color: var(--fill-color);\n",
              "      border-right-color: var(--fill-color);\n",
              "    }\n",
              "    40% {\n",
              "      border-color: transparent;\n",
              "      border-right-color: var(--fill-color);\n",
              "      border-top-color: var(--fill-color);\n",
              "    }\n",
              "    60% {\n",
              "      border-color: transparent;\n",
              "      border-right-color: var(--fill-color);\n",
              "    }\n",
              "    80% {\n",
              "      border-color: transparent;\n",
              "      border-right-color: var(--fill-color);\n",
              "      border-bottom-color: var(--fill-color);\n",
              "    }\n",
              "    90% {\n",
              "      border-color: transparent;\n",
              "      border-bottom-color: var(--fill-color);\n",
              "    }\n",
              "  }\n",
              "</style>\n",
              "\n",
              "  <script>\n",
              "    async function quickchart(key) {\n",
              "      const quickchartButtonEl =\n",
              "        document.querySelector('#' + key + ' button');\n",
              "      quickchartButtonEl.disabled = true;  // To prevent multiple clicks.\n",
              "      quickchartButtonEl.classList.add('colab-df-spinner');\n",
              "      try {\n",
              "        const charts = await google.colab.kernel.invokeFunction(\n",
              "            'suggestCharts', [key], {});\n",
              "      } catch (error) {\n",
              "        console.error('Error during call to suggestCharts:', error);\n",
              "      }\n",
              "      quickchartButtonEl.classList.remove('colab-df-spinner');\n",
              "      quickchartButtonEl.classList.add('colab-df-quickchart-complete');\n",
              "    }\n",
              "    (() => {\n",
              "      let quickchartButtonEl =\n",
              "        document.querySelector('#df-b31e8d6e-f97e-4ea6-9407-d5441bc3f77e button');\n",
              "      quickchartButtonEl.style.display =\n",
              "        google.colab.kernel.accessAllowed ? 'block' : 'none';\n",
              "    })();\n",
              "  </script>\n",
              "</div>\n",
              "\n",
              "    </div>\n",
              "  </div>\n"
            ],
            "application/vnd.google.colaboratory.intrinsic+json": {
              "type": "dataframe",
              "summary": "{\n  \"name\": \"df\",\n  \"rows\": 2,\n  \"fields\": [\n    {\n      \"column\": \"code\",\n      \"properties\": {\n        \"dtype\": \"number\",\n        \"std\": 0,\n        \"min\": 1338,\n        \"max\": 1339,\n        \"num_unique_values\": 2,\n        \"samples\": [\n          1339,\n          1338\n        ],\n        \"semantic_type\": \"\",\n        \"description\": \"\"\n      }\n    },\n    {\n      \"column\": \"company\",\n      \"properties\": {\n        \"dtype\": \"string\",\n        \"num_unique_values\": 1,\n        \"samples\": [\n          \"Umbrella LTDA\"\n        ],\n        \"semantic_type\": \"\",\n        \"description\": \"\"\n      }\n    },\n    {\n      \"column\": \"name\",\n      \"properties\": {\n        \"dtype\": \"string\",\n        \"num_unique_values\": 2,\n        \"samples\": [\n          \"Paul Rodriguez\"\n        ],\n        \"semantic_type\": \"\",\n        \"description\": \"\"\n      }\n    },\n    {\n      \"column\": \"gender\",\n      \"properties\": {\n        \"dtype\": \"string\",\n        \"num_unique_values\": 2,\n        \"samples\": [\n          \"male\"\n        ],\n        \"semantic_type\": \"\",\n        \"description\": \"\"\n      }\n    },\n    {\n      \"column\": \"age\",\n      \"properties\": {\n        \"dtype\": \"number\",\n        \"std\": 12,\n        \"min\": 35,\n        \"max\": 52,\n        \"num_unique_values\": 2,\n        \"samples\": [\n          35\n        ],\n        \"semantic_type\": \"\",\n        \"description\": \"\"\n      }\n    }\n  ]\n}"
            }
          },
          "metadata": {},
          "execution_count": 7
        }
      ]
    },
    {
      "cell_type": "code",
      "source": [
        "# Dataset Rows & Columns\n",
        "print(f'Shape of original dataframe:  {df.shape}')"
      ],
      "metadata": {
        "id": "Kllu7SJgmLij",
        "colab": {
          "base_uri": "https://localhost:8080/"
        },
        "outputId": "c668566c-e8bf-48ca-a88f-b1454c1d3be6"
      },
      "execution_count": 8,
      "outputs": [
        {
          "output_type": "stream",
          "name": "stdout",
          "text": [
            "Shape of original dataframe:  (1340, 5)\n"
          ]
        }
      ]
    },
    {
      "cell_type": "markdown",
      "source": [
        "## ***2. Understanding Data & Preprocessing***"
      ],
      "metadata": {
        "id": "nA9Y7ga8ng1Z"
      }
    },
    {
      "cell_type": "markdown",
      "source": [
        "Moving forward to the next stage, our focus is on gaining a deeper understanding of the data and undertaking the initial preprocessing steps. These initial preprocessing efforts are crucial for enhancing the usability of the data in subsequent analyses."
      ],
      "metadata": {
        "id": "nsBHh7p5GBxE"
      }
    },
    {
      "cell_type": "markdown",
      "source": [
        "### **Understanding Data**"
      ],
      "metadata": {
        "id": "rKaaJyKJ5dUD"
      }
    },
    {
      "cell_type": "code",
      "source": [
        "#Variables in the dataset\n",
        "print(f'Variables in the dataset : {list(df.columns)}')"
      ],
      "metadata": {
        "id": "R676N4wX3anB",
        "colab": {
          "base_uri": "https://localhost:8080/"
        },
        "outputId": "050e7e28-3a64-4828-a112-c6351d54eda7"
      },
      "execution_count": 9,
      "outputs": [
        {
          "output_type": "stream",
          "name": "stdout",
          "text": [
            "Variables in the dataset : ['code', 'company', 'name', 'gender', 'age']\n"
          ]
        }
      ]
    },
    {
      "cell_type": "markdown",
      "source": [
        "**Variables Description**"
      ],
      "metadata": {
        "id": "PBTbrJXOngz2"
      }
    },
    {
      "cell_type": "markdown",
      "source": [
        "- **code**: User identifier.\n",
        "- **company**: Associated company.\n",
        "- **name**: Name of the user.\n",
        "- **gender**: Gender of the user.\n",
        "- **age**: Age of the user.\n"
      ],
      "metadata": {
        "id": "aJV4KIxSnxay"
      }
    },
    {
      "cell_type": "code",
      "source": [
        "def summary(df):\n",
        "    summry = pd.DataFrame(df.dtypes, columns=['data type'])\n",
        "    summry['#missing'] = df.isnull().sum().values\n",
        "    summry['#duplicate'] = df.duplicated().sum()\n",
        "    summry['#unique'] = df.nunique().values\n",
        "    desc = pd.DataFrame(df.describe(include='all').transpose())\n",
        "    summry['min'] = desc['min'].values\n",
        "    summry['max'] = desc['max'].values\n",
        "    summry['avg'] = desc['mean'].values\n",
        "    summry['std dev'] = desc['std'].values\n",
        "    summry['top value'] = desc['top'].values\n",
        "    summry['freq'] = desc['freq'].values\n",
        "\n",
        "    return summry"
      ],
      "metadata": {
        "id": "iW4ZYkgqazgx"
      },
      "execution_count": 10,
      "outputs": []
    },
    {
      "cell_type": "code",
      "source": [
        "summary(df).style.set_caption(\" Summary of the Data \").\\\n",
        "background_gradient(cmap='Blues', axis=0). \\\n",
        "set_properties(**{'border': '1.3px dotted', 'color': '', 'caption-side': 'left'})"
      ],
      "metadata": {
        "colab": {
          "base_uri": "https://localhost:8080/",
          "height": 0
        },
        "id": "qjK5c6CXa4iS",
        "outputId": "5c02c0d7-1514-46d7-faf0-6edf15aa8f5f"
      },
      "execution_count": 11,
      "outputs": [
        {
          "output_type": "execute_result",
          "data": {
            "text/plain": [
              "<pandas.io.formats.style.Styler at 0x7a5be0932bf0>"
            ],
            "text/html": [
              "<style type=\"text/css\">\n",
              "#T_a7755_row0_col0, #T_a7755_row0_col4, #T_a7755_row0_col5, #T_a7755_row0_col6, #T_a7755_row0_col7, #T_a7755_row0_col8, #T_a7755_row0_col9, #T_a7755_row1_col0, #T_a7755_row1_col4, #T_a7755_row1_col5, #T_a7755_row1_col6, #T_a7755_row1_col7, #T_a7755_row1_col8, #T_a7755_row1_col9, #T_a7755_row2_col0, #T_a7755_row2_col4, #T_a7755_row2_col5, #T_a7755_row2_col6, #T_a7755_row2_col7, #T_a7755_row2_col8, #T_a7755_row2_col9, #T_a7755_row3_col0, #T_a7755_row3_col4, #T_a7755_row3_col5, #T_a7755_row3_col6, #T_a7755_row3_col7, #T_a7755_row3_col8, #T_a7755_row3_col9, #T_a7755_row4_col0, #T_a7755_row4_col4, #T_a7755_row4_col5, #T_a7755_row4_col6, #T_a7755_row4_col7, #T_a7755_row4_col8, #T_a7755_row4_col9 {\n",
              "  border: 1.3px dotted;\n",
              "  color: ;\n",
              "  caption-side: left;\n",
              "}\n",
              "#T_a7755_row0_col1, #T_a7755_row0_col2, #T_a7755_row1_col1, #T_a7755_row1_col2, #T_a7755_row1_col3, #T_a7755_row2_col1, #T_a7755_row2_col2, #T_a7755_row3_col2, #T_a7755_row3_col3, #T_a7755_row4_col1, #T_a7755_row4_col2 {\n",
              "  background-color: #f7fbff;\n",
              "  color: #000000;\n",
              "  border: 1.3px dotted;\n",
              "  color: ;\n",
              "  caption-side: left;\n",
              "}\n",
              "#T_a7755_row0_col3, #T_a7755_row2_col3, #T_a7755_row3_col1 {\n",
              "  background-color: #08306b;\n",
              "  color: #f1f1f1;\n",
              "  border: 1.3px dotted;\n",
              "  color: ;\n",
              "  caption-side: left;\n",
              "}\n",
              "#T_a7755_row4_col3 {\n",
              "  background-color: #f1f7fd;\n",
              "  color: #000000;\n",
              "  border: 1.3px dotted;\n",
              "  color: ;\n",
              "  caption-side: left;\n",
              "}\n",
              "</style>\n",
              "<table id=\"T_a7755\" class=\"dataframe\">\n",
              "  <caption> Summary of the Data </caption>\n",
              "  <thead>\n",
              "    <tr>\n",
              "      <th class=\"blank level0\" >&nbsp;</th>\n",
              "      <th id=\"T_a7755_level0_col0\" class=\"col_heading level0 col0\" >data type</th>\n",
              "      <th id=\"T_a7755_level0_col1\" class=\"col_heading level0 col1\" >#missing</th>\n",
              "      <th id=\"T_a7755_level0_col2\" class=\"col_heading level0 col2\" >#duplicate</th>\n",
              "      <th id=\"T_a7755_level0_col3\" class=\"col_heading level0 col3\" >#unique</th>\n",
              "      <th id=\"T_a7755_level0_col4\" class=\"col_heading level0 col4\" >min</th>\n",
              "      <th id=\"T_a7755_level0_col5\" class=\"col_heading level0 col5\" >max</th>\n",
              "      <th id=\"T_a7755_level0_col6\" class=\"col_heading level0 col6\" >avg</th>\n",
              "      <th id=\"T_a7755_level0_col7\" class=\"col_heading level0 col7\" >std dev</th>\n",
              "      <th id=\"T_a7755_level0_col8\" class=\"col_heading level0 col8\" >top value</th>\n",
              "      <th id=\"T_a7755_level0_col9\" class=\"col_heading level0 col9\" >freq</th>\n",
              "    </tr>\n",
              "  </thead>\n",
              "  <tbody>\n",
              "    <tr>\n",
              "      <th id=\"T_a7755_level0_row0\" class=\"row_heading level0 row0\" >code</th>\n",
              "      <td id=\"T_a7755_row0_col0\" class=\"data row0 col0\" >int64</td>\n",
              "      <td id=\"T_a7755_row0_col1\" class=\"data row0 col1\" >0</td>\n",
              "      <td id=\"T_a7755_row0_col2\" class=\"data row0 col2\" >0</td>\n",
              "      <td id=\"T_a7755_row0_col3\" class=\"data row0 col3\" >1340</td>\n",
              "      <td id=\"T_a7755_row0_col4\" class=\"data row0 col4\" >0.000000</td>\n",
              "      <td id=\"T_a7755_row0_col5\" class=\"data row0 col5\" >1339.000000</td>\n",
              "      <td id=\"T_a7755_row0_col6\" class=\"data row0 col6\" >669.500000</td>\n",
              "      <td id=\"T_a7755_row0_col7\" class=\"data row0 col7\" >386.968991</td>\n",
              "      <td id=\"T_a7755_row0_col8\" class=\"data row0 col8\" >nan</td>\n",
              "      <td id=\"T_a7755_row0_col9\" class=\"data row0 col9\" >nan</td>\n",
              "    </tr>\n",
              "    <tr>\n",
              "      <th id=\"T_a7755_level0_row1\" class=\"row_heading level0 row1\" >company</th>\n",
              "      <td id=\"T_a7755_row1_col0\" class=\"data row1 col0\" >object</td>\n",
              "      <td id=\"T_a7755_row1_col1\" class=\"data row1 col1\" >0</td>\n",
              "      <td id=\"T_a7755_row1_col2\" class=\"data row1 col2\" >0</td>\n",
              "      <td id=\"T_a7755_row1_col3\" class=\"data row1 col3\" >5</td>\n",
              "      <td id=\"T_a7755_row1_col4\" class=\"data row1 col4\" >nan</td>\n",
              "      <td id=\"T_a7755_row1_col5\" class=\"data row1 col5\" >nan</td>\n",
              "      <td id=\"T_a7755_row1_col6\" class=\"data row1 col6\" >nan</td>\n",
              "      <td id=\"T_a7755_row1_col7\" class=\"data row1 col7\" >nan</td>\n",
              "      <td id=\"T_a7755_row1_col8\" class=\"data row1 col8\" >4You</td>\n",
              "      <td id=\"T_a7755_row1_col9\" class=\"data row1 col9\" >453</td>\n",
              "    </tr>\n",
              "    <tr>\n",
              "      <th id=\"T_a7755_level0_row2\" class=\"row_heading level0 row2\" >name</th>\n",
              "      <td id=\"T_a7755_row2_col0\" class=\"data row2 col0\" >object</td>\n",
              "      <td id=\"T_a7755_row2_col1\" class=\"data row2 col1\" >0</td>\n",
              "      <td id=\"T_a7755_row2_col2\" class=\"data row2 col2\" >0</td>\n",
              "      <td id=\"T_a7755_row2_col3\" class=\"data row2 col3\" >1338</td>\n",
              "      <td id=\"T_a7755_row2_col4\" class=\"data row2 col4\" >nan</td>\n",
              "      <td id=\"T_a7755_row2_col5\" class=\"data row2 col5\" >nan</td>\n",
              "      <td id=\"T_a7755_row2_col6\" class=\"data row2 col6\" >nan</td>\n",
              "      <td id=\"T_a7755_row2_col7\" class=\"data row2 col7\" >nan</td>\n",
              "      <td id=\"T_a7755_row2_col8\" class=\"data row2 col8\" >Charlotte Johnson</td>\n",
              "      <td id=\"T_a7755_row2_col9\" class=\"data row2 col9\" >2</td>\n",
              "    </tr>\n",
              "    <tr>\n",
              "      <th id=\"T_a7755_level0_row3\" class=\"row_heading level0 row3\" >gender</th>\n",
              "      <td id=\"T_a7755_row3_col0\" class=\"data row3 col0\" >object</td>\n",
              "      <td id=\"T_a7755_row3_col1\" class=\"data row3 col1\" >440</td>\n",
              "      <td id=\"T_a7755_row3_col2\" class=\"data row3 col2\" >0</td>\n",
              "      <td id=\"T_a7755_row3_col3\" class=\"data row3 col3\" >2</td>\n",
              "      <td id=\"T_a7755_row3_col4\" class=\"data row3 col4\" >nan</td>\n",
              "      <td id=\"T_a7755_row3_col5\" class=\"data row3 col5\" >nan</td>\n",
              "      <td id=\"T_a7755_row3_col6\" class=\"data row3 col6\" >nan</td>\n",
              "      <td id=\"T_a7755_row3_col7\" class=\"data row3 col7\" >nan</td>\n",
              "      <td id=\"T_a7755_row3_col8\" class=\"data row3 col8\" >male</td>\n",
              "      <td id=\"T_a7755_row3_col9\" class=\"data row3 col9\" >452</td>\n",
              "    </tr>\n",
              "    <tr>\n",
              "      <th id=\"T_a7755_level0_row4\" class=\"row_heading level0 row4\" >age</th>\n",
              "      <td id=\"T_a7755_row4_col0\" class=\"data row4 col0\" >int64</td>\n",
              "      <td id=\"T_a7755_row4_col1\" class=\"data row4 col1\" >0</td>\n",
              "      <td id=\"T_a7755_row4_col2\" class=\"data row4 col2\" >0</td>\n",
              "      <td id=\"T_a7755_row4_col3\" class=\"data row4 col3\" >45</td>\n",
              "      <td id=\"T_a7755_row4_col4\" class=\"data row4 col4\" >21.000000</td>\n",
              "      <td id=\"T_a7755_row4_col5\" class=\"data row4 col5\" >65.000000</td>\n",
              "      <td id=\"T_a7755_row4_col6\" class=\"data row4 col6\" >42.742537</td>\n",
              "      <td id=\"T_a7755_row4_col7\" class=\"data row4 col7\" >12.869779</td>\n",
              "      <td id=\"T_a7755_row4_col8\" class=\"data row4 col8\" >nan</td>\n",
              "      <td id=\"T_a7755_row4_col9\" class=\"data row4 col9\" >nan</td>\n",
              "    </tr>\n",
              "  </tbody>\n",
              "</table>\n"
            ]
          },
          "metadata": {},
          "execution_count": 11
        }
      ]
    },
    {
      "cell_type": "code",
      "source": [
        "def print_unique_counts(df, columns):\n",
        "    for col in columns:\n",
        "        unique_count = df[col].nunique()\n",
        "        value_counts = df[col].value_counts()\n",
        "        print(f\"There are {unique_count} unique values and counts of each in {value_counts}\\n\")\n",
        "\n",
        "# Columns to check uniques and values\n",
        "columns_to_print = ['company', 'gender']\n",
        "print_unique_counts(df, columns_to_print)"
      ],
      "metadata": {
        "colab": {
          "base_uri": "https://localhost:8080/"
        },
        "id": "rHTaonPCXIuF",
        "outputId": "4d9f0985-7b67-45ff-c8d1-25105bb741ba"
      },
      "execution_count": 12,
      "outputs": [
        {
          "output_type": "stream",
          "name": "stdout",
          "text": [
            "There are 5 unique values and counts of each in company\n",
            "4You             453\n",
            "Acme Factory     261\n",
            "Wonka Company    237\n",
            "Monsters CYA     195\n",
            "Umbrella LTDA    194\n",
            "Name: count, dtype: int64\n",
            "\n",
            "There are 2 unique values and counts of each in gender\n",
            "male      452\n",
            "female    448\n",
            "Name: count, dtype: int64\n",
            "\n"
          ]
        }
      ]
    },
    {
      "cell_type": "markdown",
      "source": [
        "### ***Data Preprocessing***\n",
        "This step before EDA helps us to understand data easily further\n",
        "1. Drop the unique identifier and check for duplicates. As the unique identifier is a row generator.\n",
        "2. Seperate rows with gender is null - Will use created model to predict gender at the end\n"
      ],
      "metadata": {
        "id": "BMxWytdT5oEO"
      }
    },
    {
      "cell_type": "code",
      "source": [
        "# Filter rows where 'gender' is NaN\n",
        "df_predict_gender = df[pd.isna(df['gender'])]\n",
        "df = df[~pd.isna(df['gender'])]"
      ],
      "metadata": {
        "id": "QNUq093srN_l"
      },
      "execution_count": 13,
      "outputs": []
    },
    {
      "cell_type": "code",
      "source": [
        "# This function helps us to check and drop duplicates whenever required\n",
        "def check_drop_duplications(df):\n",
        "  if len(df[df.duplicated()]) > 0:\n",
        "    print(f'Count of duplicate rows : {len(df[df.duplicated()])}')\n",
        "    print(f'Dropping duplicates')\n",
        "    df = df.drop_duplicates()\n",
        "  else:\n",
        "    print(f'There are no duplicates.')\n",
        "  return df"
      ],
      "metadata": {
        "id": "QIuM_FJcX37u"
      },
      "execution_count": 14,
      "outputs": []
    },
    {
      "cell_type": "code",
      "source": [
        "# Dropping identifiers\n",
        "df = df.drop(columns = ['code'])"
      ],
      "metadata": {
        "id": "ZUQZDwcmYDJ2"
      },
      "execution_count": 15,
      "outputs": []
    },
    {
      "cell_type": "code",
      "source": [
        "# Lets see if we have any duplicate rows\n",
        "df = check_drop_duplications(df)"
      ],
      "metadata": {
        "colab": {
          "base_uri": "https://localhost:8080/"
        },
        "id": "pXWO-Y_ZVKk_",
        "outputId": "f72c9362-31d0-4640-ac6d-35908393f103"
      },
      "execution_count": 16,
      "outputs": [
        {
          "output_type": "stream",
          "name": "stdout",
          "text": [
            "There are no duplicates.\n"
          ]
        }
      ]
    },
    {
      "cell_type": "markdown",
      "source": [
        "## ***3. Exploratory Data Analysis***"
      ],
      "metadata": {
        "id": "GF8Ens_Soomf"
      }
    },
    {
      "cell_type": "markdown",
      "source": [
        "#### Chart-1 Gender distibution"
      ],
      "metadata": {
        "id": "j6mR8astPv44"
      }
    },
    {
      "cell_type": "code",
      "source": [
        "# Gender distribution\n",
        "gender_counts = df['gender'].value_counts(dropna=False)\n",
        "plt.figure(figsize=(5, 3))\n",
        "gender_counts.plot(kind='bar', color=['blue', 'orange', 'gray'])\n",
        "plt.title('Gender Distribution')\n",
        "plt.xlabel('Gender')\n",
        "plt.ylabel('Count')\n",
        "plt.xticks(rotation=0)\n",
        "plt.show()"
      ],
      "metadata": {
        "colab": {
          "base_uri": "https://localhost:8080/",
          "height": 0
        },
        "id": "pcGgopGlLBhC",
        "outputId": "35b644b9-0456-4058-a4ea-f1fbc0d1b20f"
      },
      "execution_count": 17,
      "outputs": [
        {
          "output_type": "display_data",
          "data": {
            "text/plain": [
              "<Figure size 500x300 with 1 Axes>"
            ],
            "image/png": "[encoded data removed]"
          },
          "metadata": {}
        }
      ]
    },
    {
      "cell_type": "markdown",
      "source": [
        "#### Chart - 2 Gender distribution over comapany - Stacked\n",
        "\n"
      ],
      "metadata": {
        "id": "FKgi_OAnCsy9"
      }
    },
    {
      "cell_type": "code",
      "source": [
        "# Gender distribution in companies\n",
        "company_gender_counts = df.pivot_table(index='company', columns='gender', aggfunc='size', fill_value=0)\n",
        "\n",
        "# Normalize the counts to get percentages\n",
        "company_gender_percentages = company_gender_counts.div(company_gender_counts.sum(axis=1), axis=0)\n",
        "\n",
        "# Plotting the percentage stacked bar chart\n",
        "company_gender_percentages.plot(kind='bar', stacked=True, color=['blue', 'orange', 'gray'])\n",
        "plt.title('Gender Distribution in Companies (Percentage)')\n",
        "plt.xlabel('Company')\n",
        "plt.ylabel('Percentage')\n",
        "plt.legend(title='Gender')\n",
        "plt.xticks(rotation=0)\n",
        "plt.show()"
      ],
      "metadata": {
        "id": "VpQtOiF2EoUN",
        "colab": {
          "base_uri": "https://localhost:8080/",
          "height": 0
        },
        "outputId": "b329e05f-7ff5-4d2a-bfe5-b4e1e905b466"
      },
      "execution_count": 18,
      "outputs": [
        {
          "output_type": "display_data",
          "data": {
            "text/plain": [
              "<Figure size 640x480 with 1 Axes>"
            ],
            "image/png": "[encoded data removed]"
          },
          "metadata": {}
        }
      ]
    },
    {
      "cell_type": "markdown",
      "source": [
        "#### Chart 3 - Gender distribution over age"
      ],
      "metadata": {
        "id": "2_hA8tsjvLSD"
      }
    },
    {
      "cell_type": "code",
      "source": [
        "# Gender distribution with age\n",
        "plt.figure(figsize=(5, 3))\n",
        "for gender in df['gender'].dropna().unique():\n",
        "    df[df['gender'] == gender]['age'].plot(kind='kde', label=gender)\n",
        "plt.title('Gender Distribution with Age')\n",
        "plt.xlabel('Age')\n",
        "plt.ylabel('Density')\n",
        "plt.legend()\n",
        "plt.show()"
      ],
      "metadata": {
        "id": "gq8HI-g-4WxO",
        "colab": {
          "base_uri": "https://localhost:8080/",
          "height": 0
        },
        "outputId": "7d985923-31d2-41a9-eb59-46d75bd57443"
      },
      "execution_count": 19,
      "outputs": [
        {
          "output_type": "display_data",
          "data": {
            "text/plain": [
              "<Figure size 500x300 with 1 Axes>"
            ],
            "image/png": "[encoded data removed]"
          },
          "metadata": {}
        }
      ]
    },
    {
      "cell_type": "markdown",
      "source": [
        "### Overall Insights"
      ],
      "metadata": {
        "id": "6NLej2X2ctdG"
      }
    },
    {
      "cell_type": "markdown",
      "source": [
        "This shows that age, company have nothing to contribute with the dataset."
      ],
      "metadata": {
        "id": "8mSW6zdPc78F"
      }
    },
    {
      "cell_type": "markdown",
      "source": [
        "## ***4. Feature Engineering***"
      ],
      "metadata": {
        "id": "yLjJCtPM0KBk"
      }
    },
    {
      "cell_type": "markdown",
      "source": [
        "### 1. Feature Engineering"
      ],
      "metadata": {
        "id": "xiyOF9F70UgQ"
      }
    },
    {
      "cell_type": "code",
      "source": [
        "import gender_guesser.detector as gender\n",
        "\n",
        "# Extract first and last names\n",
        "df['first_name'] = df['name'].apply(lambda x: x.split()[0])\n",
        "df['last_name'] = df['name'].apply(lambda x: x.split()[-1])\n",
        "\n",
        "# Initialize the gender detector\n",
        "d = gender.Detector()\n",
        "\n",
        "# Predict gender for each first name in the dataset\n",
        "df['gender_guess'] = df['first_name'].apply(d.get_gender)"
      ],
      "metadata": {
        "id": "J_1MWppW-EZn"
      },
      "execution_count": 20,
      "outputs": []
    },
    {
      "cell_type": "code",
      "source": [
        "# Mapping dictionary\n",
        "gender_mapping = {\n",
        "    'andy': 'unisex',\n",
        "    'unknown': 'unisex',\n",
        "    'mostly_male': 'male',\n",
        "    'mostly_female': 'female',\n",
        "    'male': 'male',\n",
        "    'female': 'female'\n",
        "}\n",
        "\n",
        "# Replace the predicted gender values using the mapping dictionary\n",
        "df['gender_guess'] = df['gender_guess'].map(gender_mapping)\n",
        "# Convert gender labels to binary values\n",
        "df['gender'] = df['gender'].map({'male': 0, 'female': 1})"
      ],
      "metadata": {
        "id": "OUdrxfNUACk_"
      },
      "execution_count": 21,
      "outputs": []
    },
    {
      "cell_type": "markdown",
      "source": [
        "### 2. Drop Unnecesary columns"
      ],
      "metadata": {
        "id": "f5K44XEapmva"
      }
    },
    {
      "cell_type": "code",
      "source": [
        "# Drop unnecessary columns and columns with very high percentage of nulls\n",
        "# Drop columns which are not useful because of high number of missing values or high number of categories\n",
        "drop_cols = ['company','name','last_name','age']\n",
        "df = df.drop(columns=drop_cols)\n",
        "df.info()\n"
      ],
      "metadata": {
        "colab": {
          "base_uri": "https://localhost:8080/"
        },
        "id": "GeGrUrsR85gv",
        "outputId": "95d31b3f-d7b3-4d91-8b67-032f40564d07"
      },
      "execution_count": 22,
      "outputs": [
        {
          "output_type": "stream",
          "name": "stdout",
          "text": [
            "<class 'pandas.core.frame.DataFrame'>\n",
            "Index: 900 entries, 0 to 1339\n",
            "Data columns (total 3 columns):\n",
            " #   Column        Non-Null Count  Dtype \n",
            "---  ------        --------------  ----- \n",
            " 0   gender        900 non-null    int64 \n",
            " 1   first_name    900 non-null    object\n",
            " 2   gender_guess  900 non-null    object\n",
            "dtypes: int64(1), object(2)\n",
            "memory usage: 28.1+ KB\n"
          ]
        }
      ]
    },
    {
      "cell_type": "code",
      "source": [
        "# check duplicates after removing date\n",
        "df = check_drop_duplications(df)"
      ],
      "metadata": {
        "colab": {
          "base_uri": "https://localhost:8080/"
        },
        "id": "4ffg1CuqjvqM",
        "outputId": "8b59349b-06f9-44a4-b75f-755a69f8f567"
      },
      "execution_count": 23,
      "outputs": [
        {
          "output_type": "stream",
          "name": "stdout",
          "text": [
            "Count of duplicate rows : 410\n",
            "Dropping duplicates\n"
          ]
        }
      ]
    },
    {
      "cell_type": "markdown",
      "source": [
        "## ***5. Transformation on Train Data***"
      ],
      "metadata": {
        "id": "HDbLt2J9IKY8"
      }
    },
    {
      "cell_type": "code",
      "source": [
        "# Separate features (X) and target variable (y)\n",
        "X = df.drop(columns=['gender'])\n",
        "y = df['gender']"
      ],
      "metadata": {
        "id": "9ZHnt2BVQwa2"
      },
      "execution_count": 24,
      "outputs": []
    },
    {
      "cell_type": "code",
      "source": [
        "# Split data into training and testing sets\n",
        "X_train, X_test, y_train, y_test = train_test_split(X, y, test_size=0.1, random_state=42)\n"
      ],
      "metadata": {
        "id": "3JU2MNYeFfGV"
      },
      "execution_count": 25,
      "outputs": []
    },
    {
      "cell_type": "markdown",
      "source": [
        "### 1. Encoding"
      ],
      "metadata": {
        "id": "id1riN9m0vUs"
      }
    },
    {
      "cell_type": "code",
      "source": [
        "# Initialize the encoder\n",
        "encoder = OneHotEncoder(handle_unknown='ignore', sparse=False)\n",
        "\n",
        "# Columns to encode\n",
        "columns_for_one_hot_encoding = ['gender_guess']\n",
        "\n",
        "# Fit & transform encoder\n",
        "X_train_cat = encoder.fit_transform(X_train[columns_for_one_hot_encoding])"
      ],
      "metadata": {
        "id": "8_K9iP7yIErx"
      },
      "execution_count": 26,
      "outputs": []
    },
    {
      "cell_type": "markdown",
      "source": [
        "### 2. Vectorizer"
      ],
      "metadata": {
        "id": "FK3VWrM9IQYS"
      }
    },
    {
      "cell_type": "code",
      "source": [
        "# Feature extraction using character n-grams\n",
        "vectorizer = CountVectorizer(analyzer='char', ngram_range=(1, 4))\n",
        "X_train_num = vectorizer.fit_transform(X_train['first_name'])"
      ],
      "metadata": {
        "id": "1naVp0BWGXne"
      },
      "execution_count": 27,
      "outputs": []
    },
    {
      "cell_type": "markdown",
      "source": [
        "### 3. Data Transformation"
      ],
      "metadata": {
        "id": "TNVZ9zx19K6k"
      }
    },
    {
      "cell_type": "code",
      "source": [
        "# Initialize the scaler\n",
        "scaler = MinMaxScaler()\n",
        "\n",
        "# Fit & transform scaler\n",
        "X_train_num = scaler.fit_transform(X_train_num.toarray())"
      ],
      "metadata": {
        "id": "NxgQI6Ho_Yjq",
        "collapsed": true
      },
      "execution_count": 28,
      "outputs": []
    },
    {
      "cell_type": "markdown",
      "source": [
        "## ***6.Modelling & Evaluation***"
      ],
      "metadata": {
        "id": "w-rWR975dqjA"
      }
    },
    {
      "cell_type": "code",
      "source": [
        "# Function to train and evaluate a classification model\n",
        "def train_evaluate_model(model, X_train, y_train, X_test, y_test):\n",
        "    start_time = time.time()\n",
        "    model.fit(X_train, y_train)\n",
        "    y_pred = model.predict(X_test)\n",
        "    y_pred_proba = model.predict_proba(X_test)[:, 1] if hasattr(model, \"predict_proba\") else None\n",
        "    time_taken = time.time() - start_time\n",
        "\n",
        "    accuracy = accuracy_score(y_test, y_pred)\n",
        "    precision = precision_score(y_test, y_pred, average='binary')\n",
        "    recall = recall_score(y_test, y_pred, average='binary')\n",
        "    f1 = f1_score(y_test, y_pred, average='binary')\n",
        "    roc_auc = roc_auc_score(y_test, y_pred_proba) if y_pred_proba is not None else None\n",
        "\n",
        "    return accuracy, precision, recall, f1, roc_auc, time_taken\n"
      ],
      "metadata": {
        "id": "4o_0rAUYJLHU"
      },
      "execution_count": 29,
      "outputs": []
    },
    {
      "cell_type": "code",
      "source": [
        "# Stack numerical and categorical features\n",
        "X_train = np.hstack((X_train_num, X_train_cat))\n",
        "X_train, X_val, y_train, y_val = train_test_split(X_train, y_train, test_size=0.2, random_state=42)\n",
        "\n",
        "# Initialize a dictionary to store results\n",
        "results = {}\n",
        "\n",
        "# Train and evaluate Logistic Regression model\n",
        "lr_model = LogisticRegression()\n",
        "results['Logistic Regression'] = train_evaluate_model(lr_model, X_train, y_train, X_val, y_val)\n",
        "\n",
        "# Train and evaluate Random Forest model\n",
        "rf_model = RandomForestClassifier(n_estimators=100, random_state=42)\n",
        "results['Random Forest'] = train_evaluate_model(rf_model, X_train, y_train, X_val, y_val)\n",
        "\n",
        "# Train and evaluate XGBoost model\n",
        "xgb_model = XGBClassifier()\n",
        "results['XGBoost'] = train_evaluate_model(xgb_model, X_train, y_train, X_val, y_val)\n",
        "\n",
        "# Convert results to a DataFrame\n",
        "results_df = pd.DataFrame(results, index=['Accuracy', 'Precision', 'Recall', 'F1-Score', 'ROC AUC', 'Time Taken (s)']).T\n",
        "results_df.reset_index(inplace=True)\n",
        "results_df.rename(columns={'index': 'Model'}, inplace=True)\n",
        "\n",
        "results_df"
      ],
      "metadata": {
        "colab": {
          "base_uri": "https://localhost:8080/",
          "height": 143
        },
        "id": "I9ZTxYunV7lN",
        "outputId": "8c71dad9-bb3f-4127-9af9-78384f3f2972"
      },
      "execution_count": 30,
      "outputs": [
        {
          "output_type": "execute_result",
          "data": {
            "text/plain": [
              "                 Model  Accuracy  Precision    Recall  F1-Score   ROC AUC  \\\n",
              "0  Logistic Regression  0.977528   0.979592  0.979592  0.979592  0.979592   \n",
              "1        Random Forest  0.966292   0.979167  0.959184  0.969072  0.974745   \n",
              "2              XGBoost  0.966292   0.979167  0.959184  0.969072  0.978571   \n",
              "\n",
              "   Time Taken (s)  \n",
              "0        0.056616  \n",
              "1        0.691833  \n",
              "2        7.550750  "
            ],
            "text/html": [
              "\n",
              "  <div id=\"df-181289e0-1035-4532-b6d8-761573b9e09e\" class=\"colab-df-container\">\n",
              "    <div>\n",
              "<style scoped>\n",
              "    .dataframe tbody tr th:only-of-type {\n",
              "        vertical-align: middle;\n",
              "    }\n",
              "\n",
              "    .dataframe tbody tr th {\n",
              "        vertical-align: top;\n",
              "    }\n",
              "\n",
              "    .dataframe thead th {\n",
              "        text-align: right;\n",
              "    }\n",
              "</style>\n",
              "<table border=\"1\" class=\"dataframe\">\n",
              "  <thead>\n",
              "    <tr style=\"text-align: right;\">\n",
              "      <th></th>\n",
              "      <th>Model</th>\n",
              "      <th>Accuracy</th>\n",
              "      <th>Precision</th>\n",
              "      <th>Recall</th>\n",
              "      <th>F1-Score</th>\n",
              "      <th>ROC AUC</th>\n",
              "      <th>Time Taken (s)</th>\n",
              "    </tr>\n",
              "  </thead>\n",
              "  <tbody>\n",
              "    <tr>\n",
              "      <th>0</th>\n",
              "      <td>Logistic Regression</td>\n",
              "      <td>0.977528</td>\n",
              "      <td>0.979592</td>\n",
              "      <td>0.979592</td>\n",
              "      <td>0.979592</td>\n",
              "      <td>0.979592</td>\n",
              "      <td>0.056616</td>\n",
              "    </tr>\n",
              "    <tr>\n",
              "      <th>1</th>\n",
              "      <td>Random Forest</td>\n",
              "      <td>0.966292</td>\n",
              "      <td>0.979167</td>\n",
              "      <td>0.959184</td>\n",
              "      <td>0.969072</td>\n",
              "      <td>0.974745</td>\n",
              "      <td>0.691833</td>\n",
              "    </tr>\n",
              "    <tr>\n",
              "      <th>2</th>\n",
              "      <td>XGBoost</td>\n",
              "      <td>0.966292</td>\n",
              "      <td>0.979167</td>\n",
              "      <td>0.959184</td>\n",
              "      <td>0.969072</td>\n",
              "      <td>0.978571</td>\n",
              "      <td>7.550750</td>\n",
              "    </tr>\n",
              "  </tbody>\n",
              "</table>\n",
              "</div>\n",
              "    <div class=\"colab-df-buttons\">\n",
              "\n",
              "  <div class=\"colab-df-container\">\n",
              "    <button class=\"colab-df-convert\" onclick=\"convertToInteractive('df-181289e0-1035-4532-b6d8-761573b9e09e')\"\n",
              "            title=\"Convert this dataframe to an interactive table.\"\n",
              "            style=\"display:none;\">\n",
              "\n",
              "  <svg xmlns=\"http://www.w3.org/2000/svg\" height=\"24px\" viewBox=\"0 -960 960 960\">\n",
              "    <path d=\"M120-120v-720h720v720H120Zm60-500h600v-160H180v160Zm220 220h160v-160H400v160Zm0 220h160v-160H400v160ZM180-400h160v-160H180v160Zm440 0h160v-160H620v160ZM180-180h160v-160H180v160Zm440 0h160v-160H620v160Z\"/>\n",
              "  </svg>\n",
              "    </button>\n",
              "\n",
              "  <style>\n",
              "    .colab-df-container {\n",
              "      display:flex;\n",
              "      gap: 12px;\n",
              "    }\n",
              "\n",
              "    .colab-df-convert {\n",
              "      background-color: #E8F0FE;\n",
              "      border: none;\n",
              "      border-radius: 50%;\n",
              "      cursor: pointer;\n",
              "      display: none;\n",
              "      fill: #1967D2;\n",
              "      height: 32px;\n",
              "      padding: 0 0 0 0;\n",
              "      width: 32px;\n",
              "    }\n",
              "\n",
              "    .colab-df-convert:hover {\n",
              "      background-color: #E2EBFA;\n",
              "      box-shadow: 0px 1px 2px rgba(60, 64, 67, 0.3), 0px 1px 3px 1px rgba(60, 64, 67, 0.15);\n",
              "      fill: #174EA6;\n",
              "    }\n",
              "\n",
              "    .colab-df-buttons div {\n",
              "      margin-bottom: 4px;\n",
              "    }\n",
              "\n",
              "    [theme=dark] .colab-df-convert {\n",
              "      background-color: #3B4455;\n",
              "      fill: #D2E3FC;\n",
              "    }\n",
              "\n",
              "    [theme=dark] .colab-df-convert:hover {\n",
              "      background-color: #434B5C;\n",
              "      box-shadow: 0px 1px 3px 1px rgba(0, 0, 0, 0.15);\n",
              "      filter: drop-shadow(0px 1px 2px rgba(0, 0, 0, 0.3));\n",
              "      fill: #FFFFFF;\n",
              "    }\n",
              "  </style>\n",
              "\n",
              "    <script>\n",
              "      const buttonEl =\n",
              "        document.querySelector('#df-181289e0-1035-4532-b6d8-761573b9e09e button.colab-df-convert');\n",
              "      buttonEl.style.display =\n",
              "        google.colab.kernel.accessAllowed ? 'block' : 'none';\n",
              "\n",
              "      async function convertToInteractive(key) {\n",
              "        const element = document.querySelector('#df-181289e0-1035-4532-b6d8-761573b9e09e');\n",
              "        const dataTable =\n",
              "          await google.colab.kernel.invokeFunction('convertToInteractive',\n",
              "                                                    [key], {});\n",
              "        if (!dataTable) return;\n",
              "\n",
              "        const docLinkHtml = 'Like what you see? Visit the ' +\n",
              "          '<a target=\"_blank\" href=https://colab.research.google.com/notebooks/data_table.ipynb>data table notebook</a>'\n",
              "          + ' to learn more about interactive tables.';\n",
              "        element.innerHTML = '';\n",
              "        dataTable['output_type'] = 'display_data';\n",
              "        await google.colab.output.renderOutput(dataTable, element);\n",
              "        const docLink = document.createElement('div');\n",
              "        docLink.innerHTML = docLinkHtml;\n",
              "        element.appendChild(docLink);\n",
              "      }\n",
              "    </script>\n",
              "  </div>\n",
              "\n",
              "\n",
              "<div id=\"df-cc399208-a8d1-4632-829a-169b3c1e10b5\">\n",
              "  <button class=\"colab-df-quickchart\" onclick=\"quickchart('df-cc399208-a8d1-4632-829a-169b3c1e10b5')\"\n",
              "            title=\"Suggest charts\"\n",
              "            style=\"display:none;\">\n",
              "\n",
              "<svg xmlns=\"http://www.w3.org/2000/svg\" height=\"24px\"viewBox=\"0 0 24 24\"\n",
              "     width=\"24px\">\n",
              "    <g>\n",
              "        <path d=\"M19 3H5c-1.1 0-2 .9-2 2v14c0 1.1.9 2 2 2h14c1.1 0 2-.9 2-2V5c0-1.1-.9-2-2-2zM9 17H7v-7h2v7zm4 0h-2V7h2v10zm4 0h-2v-4h2v4z\"/>\n",
              "    </g>\n",
              "</svg>\n",
              "  </button>\n",
              "\n",
              "<style>\n",
              "  .colab-df-quickchart {\n",
              "      --bg-color: #E8F0FE;\n",
              "      --fill-color: #1967D2;\n",
              "      --hover-bg-color: #E2EBFA;\n",
              "      --hover-fill-color: #174EA6;\n",
              "      --disabled-fill-color: #AAA;\n",
              "      --disabled-bg-color: #DDD;\n",
              "  }\n",
              "\n",
              "  [theme=dark] .colab-df-quickchart {\n",
              "      --bg-color: #3B4455;\n",
              "      --fill-color: #D2E3FC;\n",
              "      --hover-bg-color: #434B5C;\n",
              "      --hover-fill-color: #FFFFFF;\n",
              "      --disabled-bg-color: #3B4455;\n",
              "      --disabled-fill-color: #666;\n",
              "  }\n",
              "\n",
              "  .colab-df-quickchart {\n",
              "    background-color: var(--bg-color);\n",
              "    border: none;\n",
              "    border-radius: 50%;\n",
              "    cursor: pointer;\n",
              "    display: none;\n",
              "    fill: var(--fill-color);\n",
              "    height: 32px;\n",
              "    padding: 0;\n",
              "    width: 32px;\n",
              "  }\n",
              "\n",
              "  .colab-df-quickchart:hover {\n",
              "    background-color: var(--hover-bg-color);\n",
              "    box-shadow: 0 1px 2px rgba(60, 64, 67, 0.3), 0 1px 3px 1px rgba(60, 64, 67, 0.15);\n",
              "    fill: var(--button-hover-fill-color);\n",
              "  }\n",
              "\n",
              "  .colab-df-quickchart-complete:disabled,\n",
              "  .colab-df-quickchart-complete:disabled:hover {\n",
              "    background-color: var(--disabled-bg-color);\n",
              "    fill: var(--disabled-fill-color);\n",
              "    box-shadow: none;\n",
              "  }\n",
              "\n",
              "  .colab-df-spinner {\n",
              "    border: 2px solid var(--fill-color);\n",
              "    border-color: transparent;\n",
              "    border-bottom-color: var(--fill-color);\n",
              "    animation:\n",
              "      spin 1s steps(1) infinite;\n",
              "  }\n",
              "\n",
              "  @keyframes spin {\n",
              "    0% {\n",
              "      border-color: transparent;\n",
              "      border-bottom-color: var(--fill-color);\n",
              "      border-left-color: var(--fill-color);\n",
              "    }\n",
              "    20% {\n",
              "      border-color: transparent;\n",
              "      border-left-color: var(--fill-color);\n",
              "      border-top-color: var(--fill-color);\n",
              "    }\n",
              "    30% {\n",
              "      border-color: transparent;\n",
              "      border-left-color: var(--fill-color);\n",
              "      border-top-color: var(--fill-color);\n",
              "      border-right-color: var(--fill-color);\n",
              "    }\n",
              "    40% {\n",
              "      border-color: transparent;\n",
              "      border-right-color: var(--fill-color);\n",
              "      border-top-color: var(--fill-color);\n",
              "    }\n",
              "    60% {\n",
              "      border-color: transparent;\n",
              "      border-right-color: var(--fill-color);\n",
              "    }\n",
              "    80% {\n",
              "      border-color: transparent;\n",
              "      border-right-color: var(--fill-color);\n",
              "      border-bottom-color: var(--fill-color);\n",
              "    }\n",
              "    90% {\n",
              "      border-color: transparent;\n",
              "      border-bottom-color: var(--fill-color);\n",
              "    }\n",
              "  }\n",
              "</style>\n",
              "\n",
              "  <script>\n",
              "    async function quickchart(key) {\n",
              "      const quickchartButtonEl =\n",
              "        document.querySelector('#' + key + ' button');\n",
              "      quickchartButtonEl.disabled = true;  // To prevent multiple clicks.\n",
              "      quickchartButtonEl.classList.add('colab-df-spinner');\n",
              "      try {\n",
              "        const charts = await google.colab.kernel.invokeFunction(\n",
              "            'suggestCharts', [key], {});\n",
              "      } catch (error) {\n",
              "        console.error('Error during call to suggestCharts:', error);\n",
              "      }\n",
              "      quickchartButtonEl.classList.remove('colab-df-spinner');\n",
              "      quickchartButtonEl.classList.add('colab-df-quickchart-complete');\n",
              "    }\n",
              "    (() => {\n",
              "      let quickchartButtonEl =\n",
              "        document.querySelector('#df-cc399208-a8d1-4632-829a-169b3c1e10b5 button');\n",
              "      quickchartButtonEl.style.display =\n",
              "        google.colab.kernel.accessAllowed ? 'block' : 'none';\n",
              "    })();\n",
              "  </script>\n",
              "</div>\n",
              "\n",
              "  <div id=\"id_e63d9fce-f22b-4fc1-b8fa-d1c1df861a82\">\n",
              "    <style>\n",
              "      .colab-df-generate {\n",
              "        background-color: #E8F0FE;\n",
              "        border: none;\n",
              "        border-radius: 50%;\n",
              "        cursor: pointer;\n",
              "        display: none;\n",
              "        fill: #1967D2;\n",
              "        height: 32px;\n",
              "        padding: 0 0 0 0;\n",
              "        width: 32px;\n",
              "      }\n",
              "\n",
              "      .colab-df-generate:hover {\n",
              "        background-color: #E2EBFA;\n",
              "        box-shadow: 0px 1px 2px rgba(60, 64, 67, 0.3), 0px 1px 3px 1px rgba(60, 64, 67, 0.15);\n",
              "        fill: #174EA6;\n",
              "      }\n",
              "\n",
              "      [theme=dark] .colab-df-generate {\n",
              "        background-color: #3B4455;\n",
              "        fill: #D2E3FC;\n",
              "      }\n",
              "\n",
              "      [theme=dark] .colab-df-generate:hover {\n",
              "        background-color: #434B5C;\n",
              "        box-shadow: 0px 1px 3px 1px rgba(0, 0, 0, 0.15);\n",
              "        filter: drop-shadow(0px 1px 2px rgba(0, 0, 0, 0.3));\n",
              "        fill: #FFFFFF;\n",
              "      }\n",
              "    </style>\n",
              "    <button class=\"colab-df-generate\" onclick=\"generateWithVariable('results_df')\"\n",
              "            title=\"Generate code using this dataframe.\"\n",
              "            style=\"display:none;\">\n",
              "\n",
              "  <svg xmlns=\"http://www.w3.org/2000/svg\" height=\"24px\"viewBox=\"0 0 24 24\"\n",
              "       width=\"24px\">\n",
              "    <path d=\"M7,19H8.4L18.45,9,17,7.55,7,17.6ZM5,21V16.75L18.45,3.32a2,2,0,0,1,2.83,0l1.4,1.43a1.91,1.91,0,0,1,.58,1.4,1.91,1.91,0,0,1-.58,1.4L9.25,21ZM18.45,9,17,7.55Zm-12,3A5.31,5.31,0,0,0,4.9,8.1,5.31,5.31,0,0,0,1,6.5,5.31,5.31,0,0,0,4.9,4.9,5.31,5.31,0,0,0,6.5,1,5.31,5.31,0,0,0,8.1,4.9,5.31,5.31,0,0,0,12,6.5,5.46,5.46,0,0,0,6.5,12Z\"/>\n",
              "  </svg>\n",
              "    </button>\n",
              "    <script>\n",
              "      (() => {\n",
              "      const buttonEl =\n",
              "        document.querySelector('#id_e63d9fce-f22b-4fc1-b8fa-d1c1df861a82 button.colab-df-generate');\n",
              "      buttonEl.style.display =\n",
              "        google.colab.kernel.accessAllowed ? 'block' : 'none';\n",
              "\n",
              "      buttonEl.onclick = () => {\n",
              "        google.colab.notebook.generateWithVariable('results_df');\n",
              "      }\n",
              "      })();\n",
              "    </script>\n",
              "  </div>\n",
              "\n",
              "    </div>\n",
              "  </div>\n"
            ],
            "application/vnd.google.colaboratory.intrinsic+json": {
              "type": "dataframe",
              "variable_name": "results_df",
              "summary": "{\n  \"name\": \"results_df\",\n  \"rows\": 3,\n  \"fields\": [\n    {\n      \"column\": \"Model\",\n      \"properties\": {\n        \"dtype\": \"string\",\n        \"num_unique_values\": 3,\n        \"samples\": [\n          \"Logistic Regression\",\n          \"Random Forest\",\n          \"XGBoost\"\n        ],\n        \"semantic_type\": \"\",\n        \"description\": \"\"\n      }\n    },\n    {\n      \"column\": \"Accuracy\",\n      \"properties\": {\n        \"dtype\": \"number\",\n        \"std\": 0.006487081676287881,\n        \"min\": 0.9662921348314607,\n        \"max\": 0.9775280898876404,\n        \"num_unique_values\": 2,\n        \"samples\": [\n          0.9662921348314607,\n          0.9775280898876404\n        ],\n        \"semantic_type\": \"\",\n        \"description\": \"\"\n      }\n    },\n    {\n      \"column\": \"Precision\",\n      \"properties\": {\n        \"dtype\": \"number\",\n        \"std\": 0.00024547205322688996,\n        \"min\": 0.9791666666666666,\n        \"max\": 0.9795918367346939,\n        \"num_unique_values\": 2,\n        \"samples\": [\n          0.9791666666666666,\n          0.9795918367346939\n        ],\n        \"semantic_type\": \"\",\n        \"description\": \"\"\n      }\n    },\n    {\n      \"column\": \"Recall\",\n      \"properties\": {\n        \"dtype\": \"number\",\n        \"std\": 0.011782658554890335,\n        \"min\": 0.9591836734693877,\n        \"max\": 0.9795918367346939,\n        \"num_unique_values\": 2,\n        \"samples\": [\n          0.9591836734693877,\n          0.9795918367346939\n        ],\n        \"semantic_type\": \"\",\n        \"description\": \"\"\n      }\n    },\n    {\n      \"column\": \"F1-Score\",\n      \"properties\": {\n        \"dtype\": \"number\",\n        \"std\": 0.006073535337572318,\n        \"min\": 0.9690721649484536,\n        \"max\": 0.9795918367346939,\n        \"num_unique_values\": 2,\n        \"samples\": [\n          0.9690721649484536,\n          0.9795918367346939\n        ],\n        \"semantic_type\": \"\",\n        \"description\": \"\"\n      }\n    },\n    {\n      \"column\": \"ROC AUC\",\n      \"properties\": {\n        \"dtype\": \"number\",\n        \"std\": 0.0025552685716524557,\n        \"min\": 0.9747448979591837,\n        \"max\": 0.9795918367346939,\n        \"num_unique_values\": 3,\n        \"samples\": [\n          0.9795918367346939,\n          0.9747448979591837\n        ],\n        \"semantic_type\": \"\",\n        \"description\": \"\"\n      }\n    },\n    {\n      \"column\": \"Time Taken (s)\",\n      \"properties\": {\n        \"dtype\": \"number\",\n        \"std\": 4.155523928830645,\n        \"min\": 0.056615591049194336,\n        \"max\": 7.5507495403289795,\n        \"num_unique_values\": 3,\n        \"samples\": [\n          0.056615591049194336,\n          0.69183349609375\n        ],\n        \"semantic_type\": \"\",\n        \"description\": \"\"\n      }\n    }\n  ]\n}"
            }
          },
          "metadata": {},
          "execution_count": 30
        }
      ]
    },
    {
      "cell_type": "code",
      "metadata": {
        "id": "y5FkajaqD93o",
        "colab": {
          "base_uri": "https://localhost:8080/",
          "height": 785
        },
        "outputId": "8950e300-21df-4478-ef74-1eda360b8013"
      },
      "source": [
        "# Plot the results\n",
        "metrics = ['Accuracy', 'Precision', 'Recall', 'F1-Score','ROC AUC', 'Time Taken (s)']\n",
        "\n",
        "fig, axes = plt.subplots(nrows=2, ncols=3, figsize=(18, 12))\n",
        "\n",
        "for i, metric in enumerate(metrics):\n",
        "    row, col = divmod(i, 3)\n",
        "    axes[row, col].bar(results_df['Model'], results_df[metric], color=['blue', 'green', 'red'])\n",
        "    axes[row, col].set_title(metric)\n",
        "    axes[row, col].set_ylabel(metric)\n",
        "    axes[row, col].set_xlabel('Model')\n",
        "\n",
        "plt.tight_layout()\n",
        "plt.show()\n"
      ],
      "execution_count": 31,
      "outputs": [
        {
          "output_type": "display_data",
          "data": {
            "text/plain": [
              "<Figure size 1800x1200 with 6 Axes>"
            ],
            "image/png": "[encoded data removed]"
          },
          "metadata": {}
        }
      ]
    },
    {
      "cell_type": "markdown",
      "source": [
        "## ***7.Predictions on dataset having no Gender***"
      ],
      "metadata": {
        "id": "cW23w6HcUR-0"
      }
    },
    {
      "cell_type": "code",
      "source": [
        "def preprocess_predict(df):\n",
        "  # Extract first and last names\n",
        "  df['first_name'] = df['name'].apply(lambda x: x.split()[0])\n",
        "  # Initialize the gender detector\n",
        "  d = gender.Detector()\n",
        "  # Predict gender for each first name in the dataset\n",
        "  df['gender_guess'] = df['first_name'].apply(d.get_gender)\n",
        "  # Replace the predicted gender values using the mapping dictionary\n",
        "  df['gender_guess'] = df['gender_guess'].map(gender_mapping)\n",
        "\n",
        "  X_cat = encoder.transform(df[['gender_guess']])\n",
        "  X_num = vectorizer.transform(df['first_name'])\n",
        "  X_num = scaler.transform(X_num.toarray())\n",
        "  X = np.hstack((X_num, X_cat))\n",
        "  y_pred = lr_model.predict(X)\n",
        "  predictions = np.where(y_pred == 0, 'male', 'female')\n",
        "\n",
        "\n",
        "  return predictions"
      ],
      "metadata": {
        "id": "QSVCMGtzQvgr"
      },
      "execution_count": 32,
      "outputs": []
    },
    {
      "cell_type": "code",
      "source": [
        "df_predict_gender['gender_predicted'] = preprocess_predict(df_predict_gender[['code','name','gender']])\n",
        "print(f\"We have succefully predicted gender for the users from the name using model which has recall of {round(results_df[results_df['Model']=='Logistic Regression']['Recall'].values[0],2)*100}%\")"
      ],
      "metadata": {
        "colab": {
          "base_uri": "https://localhost:8080/"
        },
        "id": "ynoUS4dxODQj",
        "outputId": "a2cf3b69-e4a5-44b5-8c48-b81c39226575"
      },
      "execution_count": 33,
      "outputs": [
        {
          "output_type": "stream",
          "name": "stdout",
          "text": [
            "We have succefully predicted gender for the users from the name using model which has recall of 98.0%\n"
          ]
        }
      ]
    },
    {
      "cell_type": "code",
      "source": [
        "# These users doesnt have gender in the dataset\n",
        "df_predict_gender"
      ],
      "metadata": {
        "colab": {
          "base_uri": "https://localhost:8080/",
          "height": 423
        },
        "id": "og6SIIhnUPbD",
        "outputId": "ca231a47-7e10-43e9-8a97-fdf866d5eec2"
      },
      "execution_count": 34,
      "outputs": [
        {
          "output_type": "execute_result",
          "data": {
            "text/plain": [
              "      code        company             name gender  age gender_predicted\n",
              "5        5           4You     Trina Thomas    NaN   47           female\n",
              "8        8           4You        Jack Sabo    NaN   41             male\n",
              "9        9           4You     Debbie Helms    NaN   35           female\n",
              "13      13           4You     Irene Tucker    NaN   36           female\n",
              "17      17           4You  Victor Tribbett    NaN   25             male\n",
              "...    ...            ...              ...    ...  ...              ...\n",
              "1319  1319  Umbrella LTDA    Grace Walling    NaN   51           female\n",
              "1321  1321  Umbrella LTDA  Cynthia Starkey    NaN   59           female\n",
              "1322  1322  Umbrella LTDA  Irene Cavanaugh    NaN   31           female\n",
              "1324  1324  Umbrella LTDA     Jason Fraser    NaN   26             male\n",
              "1330  1330  Umbrella LTDA      Laura Helle    NaN   59           female\n",
              "\n",
              "[440 rows x 6 columns]"
            ],
            "text/html": [
              "\n",
              "  <div id=\"df-7f0f68de-36aa-4f0e-99a2-f3df6fb69b8a\" class=\"colab-df-container\">\n",
              "    <div>\n",
              "<style scoped>\n",
              "    .dataframe tbody tr th:only-of-type {\n",
              "        vertical-align: middle;\n",
              "    }\n",
              "\n",
              "    .dataframe tbody tr th {\n",
              "        vertical-align: top;\n",
              "    }\n",
              "\n",
              "    .dataframe thead th {\n",
              "        text-align: right;\n",
              "    }\n",
              "</style>\n",
              "<table border=\"1\" class=\"dataframe\">\n",
              "  <thead>\n",
              "    <tr style=\"text-align: right;\">\n",
              "      <th></th>\n",
              "      <th>code</th>\n",
              "      <th>company</th>\n",
              "      <th>name</th>\n",
              "      <th>gender</th>\n",
              "      <th>age</th>\n",
              "      <th>gender_predicted</th>\n",
              "    </tr>\n",
              "  </thead>\n",
              "  <tbody>\n",
              "    <tr>\n",
              "      <th>5</th>\n",
              "      <td>5</td>\n",
              "      <td>4You</td>\n",
              "      <td>Trina Thomas</td>\n",
              "      <td>NaN</td>\n",
              "      <td>47</td>\n",
              "      <td>female</td>\n",
              "    </tr>\n",
              "    <tr>\n",
              "      <th>8</th>\n",
              "      <td>8</td>\n",
              "      <td>4You</td>\n",
              "      <td>Jack Sabo</td>\n",
              "      <td>NaN</td>\n",
              "      <td>41</td>\n",
              "      <td>male</td>\n",
              "    </tr>\n",
              "    <tr>\n",
              "      <th>9</th>\n",
              "      <td>9</td>\n",
              "      <td>4You</td>\n",
              "      <td>Debbie Helms</td>\n",
              "      <td>NaN</td>\n",
              "      <td>35</td>\n",
              "      <td>female</td>\n",
              "    </tr>\n",
              "    <tr>\n",
              "      <th>13</th>\n",
              "      <td>13</td>\n",
              "      <td>4You</td>\n",
              "      <td>Irene Tucker</td>\n",
              "      <td>NaN</td>\n",
              "      <td>36</td>\n",
              "      <td>female</td>\n",
              "    </tr>\n",
              "    <tr>\n",
              "      <th>17</th>\n",
              "      <td>17</td>\n",
              "      <td>4You</td>\n",
              "      <td>Victor Tribbett</td>\n",
              "      <td>NaN</td>\n",
              "      <td>25</td>\n",
              "      <td>male</td>\n",
              "    </tr>\n",
              "    <tr>\n",
              "      <th>...</th>\n",
              "      <td>...</td>\n",
              "      <td>...</td>\n",
              "      <td>...</td>\n",
              "      <td>...</td>\n",
              "      <td>...</td>\n",
              "      <td>...</td>\n",
              "    </tr>\n",
              "    <tr>\n",
              "      <th>1319</th>\n",
              "      <td>1319</td>\n",
              "      <td>Umbrella LTDA</td>\n",
              "      <td>Grace Walling</td>\n",
              "      <td>NaN</td>\n",
              "      <td>51</td>\n",
              "      <td>female</td>\n",
              "    </tr>\n",
              "    <tr>\n",
              "      <th>1321</th>\n",
              "      <td>1321</td>\n",
              "      <td>Umbrella LTDA</td>\n",
              "      <td>Cynthia Starkey</td>\n",
              "      <td>NaN</td>\n",
              "      <td>59</td>\n",
              "      <td>female</td>\n",
              "    </tr>\n",
              "    <tr>\n",
              "      <th>1322</th>\n",
              "      <td>1322</td>\n",
              "      <td>Umbrella LTDA</td>\n",
              "      <td>Irene Cavanaugh</td>\n",
              "      <td>NaN</td>\n",
              "      <td>31</td>\n",
              "      <td>female</td>\n",
              "    </tr>\n",
              "    <tr>\n",
              "      <th>1324</th>\n",
              "      <td>1324</td>\n",
              "      <td>Umbrella LTDA</td>\n",
              "      <td>Jason Fraser</td>\n",
              "      <td>NaN</td>\n",
              "      <td>26</td>\n",
              "      <td>male</td>\n",
              "    </tr>\n",
              "    <tr>\n",
              "      <th>1330</th>\n",
              "      <td>1330</td>\n",
              "      <td>Umbrella LTDA</td>\n",
              "      <td>Laura Helle</td>\n",
              "      <td>NaN</td>\n",
              "      <td>59</td>\n",
              "      <td>female</td>\n",
              "    </tr>\n",
              "  </tbody>\n",
              "</table>\n",
              "<p>440 rows × 6 columns</p>\n",
              "</div>\n",
              "    <div class=\"colab-df-buttons\">\n",
              "\n",
              "  <div class=\"colab-df-container\">\n",
              "    <button class=\"colab-df-convert\" onclick=\"convertToInteractive('df-7f0f68de-36aa-4f0e-99a2-f3df6fb69b8a')\"\n",
              "            title=\"Convert this dataframe to an interactive table.\"\n",
              "            style=\"display:none;\">\n",
              "\n",
              "  <svg xmlns=\"http://www.w3.org/2000/svg\" height=\"24px\" viewBox=\"0 -960 960 960\">\n",
              "    <path d=\"M120-120v-720h720v720H120Zm60-500h600v-160H180v160Zm220 220h160v-160H400v160Zm0 220h160v-160H400v160ZM180-400h160v-160H180v160Zm440 0h160v-160H620v160ZM180-180h160v-160H180v160Zm440 0h160v-160H620v160Z\"/>\n",
              "  </svg>\n",
              "    </button>\n",
              "\n",
              "  <style>\n",
              "    .colab-df-container {\n",
              "      display:flex;\n",
              "      gap: 12px;\n",
              "    }\n",
              "\n",
              "    .colab-df-convert {\n",
              "      background-color: #E8F0FE;\n",
              "      border: none;\n",
              "      border-radius: 50%;\n",
              "      cursor: pointer;\n",
              "      display: none;\n",
              "      fill: #1967D2;\n",
              "      height: 32px;\n",
              "      padding: 0 0 0 0;\n",
              "      width: 32px;\n",
              "    }\n",
              "\n",
              "    .colab-df-convert:hover {\n",
              "      background-color: #E2EBFA;\n",
              "      box-shadow: 0px 1px 2px rgba(60, 64, 67, 0.3), 0px 1px 3px 1px rgba(60, 64, 67, 0.15);\n",
              "      fill: #174EA6;\n",
              "    }\n",
              "\n",
              "    .colab-df-buttons div {\n",
              "      margin-bottom: 4px;\n",
              "    }\n",
              "\n",
              "    [theme=dark] .colab-df-convert {\n",
              "      background-color: #3B4455;\n",
              "      fill: #D2E3FC;\n",
              "    }\n",
              "\n",
              "    [theme=dark] .colab-df-convert:hover {\n",
              "      background-color: #434B5C;\n",
              "      box-shadow: 0px 1px 3px 1px rgba(0, 0, 0, 0.15);\n",
              "      filter: drop-shadow(0px 1px 2px rgba(0, 0, 0, 0.3));\n",
              "      fill: #FFFFFF;\n",
              "    }\n",
              "  </style>\n",
              "\n",
              "    <script>\n",
              "      const buttonEl =\n",
              "        document.querySelector('#df-7f0f68de-36aa-4f0e-99a2-f3df6fb69b8a button.colab-df-convert');\n",
              "      buttonEl.style.display =\n",
              "        google.colab.kernel.accessAllowed ? 'block' : 'none';\n",
              "\n",
              "      async function convertToInteractive(key) {\n",
              "        const element = document.querySelector('#df-7f0f68de-36aa-4f0e-99a2-f3df6fb69b8a');\n",
              "        const dataTable =\n",
              "          await google.colab.kernel.invokeFunction('convertToInteractive',\n",
              "                                                    [key], {});\n",
              "        if (!dataTable) return;\n",
              "\n",
              "        const docLinkHtml = 'Like what you see? Visit the ' +\n",
              "          '<a target=\"_blank\" href=https://colab.research.google.com/notebooks/data_table.ipynb>data table notebook</a>'\n",
              "          + ' to learn more about interactive tables.';\n",
              "        element.innerHTML = '';\n",
              "        dataTable['output_type'] = 'display_data';\n",
              "        await google.colab.output.renderOutput(dataTable, element);\n",
              "        const docLink = document.createElement('div');\n",
              "        docLink.innerHTML = docLinkHtml;\n",
              "        element.appendChild(docLink);\n",
              "      }\n",
              "    </script>\n",
              "  </div>\n",
              "\n",
              "\n",
              "<div id=\"df-6a58ceb3-9701-41a3-bf94-d0312c87541d\">\n",
              "  <button class=\"colab-df-quickchart\" onclick=\"quickchart('df-6a58ceb3-9701-41a3-bf94-d0312c87541d')\"\n",
              "            title=\"Suggest charts\"\n",
              "            style=\"display:none;\">\n",
              "\n",
              "<svg xmlns=\"http://www.w3.org/2000/svg\" height=\"24px\"viewBox=\"0 0 24 24\"\n",
              "     width=\"24px\">\n",
              "    <g>\n",
              "        <path d=\"M19 3H5c-1.1 0-2 .9-2 2v14c0 1.1.9 2 2 2h14c1.1 0 2-.9 2-2V5c0-1.1-.9-2-2-2zM9 17H7v-7h2v7zm4 0h-2V7h2v10zm4 0h-2v-4h2v4z\"/>\n",
              "    </g>\n",
              "</svg>\n",
              "  </button>\n",
              "\n",
              "<style>\n",
              "  .colab-df-quickchart {\n",
              "      --bg-color: #E8F0FE;\n",
              "      --fill-color: #1967D2;\n",
              "      --hover-bg-color: #E2EBFA;\n",
              "      --hover-fill-color: #174EA6;\n",
              "      --disabled-fill-color: #AAA;\n",
              "      --disabled-bg-color: #DDD;\n",
              "  }\n",
              "\n",
              "  [theme=dark] .colab-df-quickchart {\n",
              "      --bg-color: #3B4455;\n",
              "      --fill-color: #D2E3FC;\n",
              "      --hover-bg-color: #434B5C;\n",
              "      --hover-fill-color: #FFFFFF;\n",
              "      --disabled-bg-color: #3B4455;\n",
              "      --disabled-fill-color: #666;\n",
              "  }\n",
              "\n",
              "  .colab-df-quickchart {\n",
              "    background-color: var(--bg-color);\n",
              "    border: none;\n",
              "    border-radius: 50%;\n",
              "    cursor: pointer;\n",
              "    display: none;\n",
              "    fill: var(--fill-color);\n",
              "    height: 32px;\n",
              "    padding: 0;\n",
              "    width: 32px;\n",
              "  }\n",
              "\n",
              "  .colab-df-quickchart:hover {\n",
              "    background-color: var(--hover-bg-color);\n",
              "    box-shadow: 0 1px 2px rgba(60, 64, 67, 0.3), 0 1px 3px 1px rgba(60, 64, 67, 0.15);\n",
              "    fill: var(--button-hover-fill-color);\n",
              "  }\n",
              "\n",
              "  .colab-df-quickchart-complete:disabled,\n",
              "  .colab-df-quickchart-complete:disabled:hover {\n",
              "    background-color: var(--disabled-bg-color);\n",
              "    fill: var(--disabled-fill-color);\n",
              "    box-shadow: none;\n",
              "  }\n",
              "\n",
              "  .colab-df-spinner {\n",
              "    border: 2px solid var(--fill-color);\n",
              "    border-color: transparent;\n",
              "    border-bottom-color: var(--fill-color);\n",
              "    animation:\n",
              "      spin 1s steps(1) infinite;\n",
              "  }\n",
              "\n",
              "  @keyframes spin {\n",
              "    0% {\n",
              "      border-color: transparent;\n",
              "      border-bottom-color: var(--fill-color);\n",
              "      border-left-color: var(--fill-color);\n",
              "    }\n",
              "    20% {\n",
              "      border-color: transparent;\n",
              "      border-left-color: var(--fill-color);\n",
              "      border-top-color: var(--fill-color);\n",
              "    }\n",
              "    30% {\n",
              "      border-color: transparent;\n",
              "      border-left-color: var(--fill-color);\n",
              "      border-top-color: var(--fill-color);\n",
              "      border-right-color: var(--fill-color);\n",
              "    }\n",
              "    40% {\n",
              "      border-color: transparent;\n",
              "      border-right-color: var(--fill-color);\n",
              "      border-top-color: var(--fill-color);\n",
              "    }\n",
              "    60% {\n",
              "      border-color: transparent;\n",
              "      border-right-color: var(--fill-color);\n",
              "    }\n",
              "    80% {\n",
              "      border-color: transparent;\n",
              "      border-right-color: var(--fill-color);\n",
              "      border-bottom-color: var(--fill-color);\n",
              "    }\n",
              "    90% {\n",
              "      border-color: transparent;\n",
              "      border-bottom-color: var(--fill-color);\n",
              "    }\n",
              "  }\n",
              "</style>\n",
              "\n",
              "  <script>\n",
              "    async function quickchart(key) {\n",
              "      const quickchartButtonEl =\n",
              "        document.querySelector('#' + key + ' button');\n",
              "      quickchartButtonEl.disabled = true;  // To prevent multiple clicks.\n",
              "      quickchartButtonEl.classList.add('colab-df-spinner');\n",
              "      try {\n",
              "        const charts = await google.colab.kernel.invokeFunction(\n",
              "            'suggestCharts', [key], {});\n",
              "      } catch (error) {\n",
              "        console.error('Error during call to suggestCharts:', error);\n",
              "      }\n",
              "      quickchartButtonEl.classList.remove('colab-df-spinner');\n",
              "      quickchartButtonEl.classList.add('colab-df-quickchart-complete');\n",
              "    }\n",
              "    (() => {\n",
              "      let quickchartButtonEl =\n",
              "        document.querySelector('#df-6a58ceb3-9701-41a3-bf94-d0312c87541d button');\n",
              "      quickchartButtonEl.style.display =\n",
              "        google.colab.kernel.accessAllowed ? 'block' : 'none';\n",
              "    })();\n",
              "  </script>\n",
              "</div>\n",
              "\n",
              "  <div id=\"id_8ea8906c-4b02-4537-b375-aaa8147da207\">\n",
              "    <style>\n",
              "      .colab-df-generate {\n",
              "        background-color: #E8F0FE;\n",
              "        border: none;\n",
              "        border-radius: 50%;\n",
              "        cursor: pointer;\n",
              "        display: none;\n",
              "        fill: #1967D2;\n",
              "        height: 32px;\n",
              "        padding: 0 0 0 0;\n",
              "        width: 32px;\n",
              "      }\n",
              "\n",
              "      .colab-df-generate:hover {\n",
              "        background-color: #E2EBFA;\n",
              "        box-shadow: 0px 1px 2px rgba(60, 64, 67, 0.3), 0px 1px 3px 1px rgba(60, 64, 67, 0.15);\n",
              "        fill: #174EA6;\n",
              "      }\n",
              "\n",
              "      [theme=dark] .colab-df-generate {\n",
              "        background-color: #3B4455;\n",
              "        fill: #D2E3FC;\n",
              "      }\n",
              "\n",
              "      [theme=dark] .colab-df-generate:hover {\n",
              "        background-color: #434B5C;\n",
              "        box-shadow: 0px 1px 3px 1px rgba(0, 0, 0, 0.15);\n",
              "        filter: drop-shadow(0px 1px 2px rgba(0, 0, 0, 0.3));\n",
              "        fill: #FFFFFF;\n",
              "      }\n",
              "    </style>\n",
              "    <button class=\"colab-df-generate\" onclick=\"generateWithVariable('df_predict_gender')\"\n",
              "            title=\"Generate code using this dataframe.\"\n",
              "            style=\"display:none;\">\n",
              "\n",
              "  <svg xmlns=\"http://www.w3.org/2000/svg\" height=\"24px\"viewBox=\"0 0 24 24\"\n",
              "       width=\"24px\">\n",
              "    <path d=\"M7,19H8.4L18.45,9,17,7.55,7,17.6ZM5,21V16.75L18.45,3.32a2,2,0,0,1,2.83,0l1.4,1.43a1.91,1.91,0,0,1,.58,1.4,1.91,1.91,0,0,1-.58,1.4L9.25,21ZM18.45,9,17,7.55Zm-12,3A5.31,5.31,0,0,0,4.9,8.1,5.31,5.31,0,0,0,1,6.5,5.31,5.31,0,0,0,4.9,4.9,5.31,5.31,0,0,0,6.5,1,5.31,5.31,0,0,0,8.1,4.9,5.31,5.31,0,0,0,12,6.5,5.46,5.46,0,0,0,6.5,12Z\"/>\n",
              "  </svg>\n",
              "    </button>\n",
              "    <script>\n",
              "      (() => {\n",
              "      const buttonEl =\n",
              "        document.querySelector('#id_8ea8906c-4b02-4537-b375-aaa8147da207 button.colab-df-generate');\n",
              "      buttonEl.style.display =\n",
              "        google.colab.kernel.accessAllowed ? 'block' : 'none';\n",
              "\n",
              "      buttonEl.onclick = () => {\n",
              "        google.colab.notebook.generateWithVariable('df_predict_gender');\n",
              "      }\n",
              "      })();\n",
              "    </script>\n",
              "  </div>\n",
              "\n",
              "    </div>\n",
              "  </div>\n"
            ],
            "application/vnd.google.colaboratory.intrinsic+json": {
              "type": "dataframe",
              "variable_name": "df_predict_gender",
              "repr_error": "0"
            }
          },
          "metadata": {},
          "execution_count": 34
        }
      ]
    },
    {
      "cell_type": "markdown",
      "source": [
        "# **Conclusion**"
      ],
      "metadata": {
        "id": "gCX9965dhzqZ"
      }
    }
  ]
}